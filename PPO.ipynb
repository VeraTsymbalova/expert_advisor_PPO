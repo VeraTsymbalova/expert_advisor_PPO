{
 "cells": [
  {
   "cell_type": "markdown",
   "id": "deb42bab",
   "metadata": {},
   "source": [
    "# Импорт библиотек"
   ]
  },
  {
   "cell_type": "code",
   "execution_count": 1,
   "id": "89e19585",
   "metadata": {},
   "outputs": [],
   "source": [
    "import warnings\n",
    "warnings.filterwarnings(\"ignore\", category=FutureWarning)\n",
    "warnings.filterwarnings(\"ignore\", category=DeprecationWarning)\n",
    "warnings.filterwarnings(\"ignore\", category=UserWarning)"
   ]
  },
  {
   "cell_type": "code",
   "execution_count": 2,
   "id": "d635ebf1",
   "metadata": {},
   "outputs": [
    {
     "name": "stdout",
     "output_type": "stream",
     "text": [
      "Requirement already satisfied: pandas==1.5.3 in c:\\users\\vera-\\appdata\\local\\packages\\pythonsoftwarefoundation.python.3.10_qbz5n2kfra8p0\\localcache\\local-packages\\python310\\site-packages (1.5.3)\n",
      "Requirement already satisfied: numpy in c:\\users\\vera-\\appdata\\local\\packages\\pythonsoftwarefoundation.python.3.10_qbz5n2kfra8p0\\localcache\\local-packages\\python310\\site-packages (1.26.4)\n",
      "Requirement already satisfied: gym_mtsim in c:\\users\\vera-\\appdata\\local\\packages\\pythonsoftwarefoundation.python.3.10_qbz5n2kfra8p0\\localcache\\local-packages\\python310\\site-packages (1.3.0)\n",
      "Requirement already satisfied: optuna in c:\\users\\vera-\\appdata\\local\\packages\\pythonsoftwarefoundation.python.3.10_qbz5n2kfra8p0\\localcache\\local-packages\\python310\\site-packages (4.3.0)\n",
      "Requirement already satisfied: onnx==1.12.0 in c:\\users\\vera-\\appdata\\local\\packages\\pythonsoftwarefoundation.python.3.10_qbz5n2kfra8p0\\localcache\\local-packages\\python310\\site-packages (1.12.0)\n",
      "Requirement already satisfied: onnxruntime in c:\\users\\vera-\\appdata\\local\\packages\\pythonsoftwarefoundation.python.3.10_qbz5n2kfra8p0\\localcache\\local-packages\\python310\\site-packages (1.17.1)\n",
      "Requirement already satisfied: stable-baselines3[extra] in c:\\users\\vera-\\appdata\\local\\packages\\pythonsoftwarefoundation.python.3.10_qbz5n2kfra8p0\\localcache\\local-packages\\python310\\site-packages (2.6.0)\n",
      "Requirement already satisfied: python-dateutil>=2.8.1 in c:\\users\\vera-\\appdata\\local\\packages\\pythonsoftwarefoundation.python.3.10_qbz5n2kfra8p0\\localcache\\local-packages\\python310\\site-packages (from pandas==1.5.3) (2.8.2)\n",
      "Requirement already satisfied: pytz>=2020.1 in c:\\users\\vera-\\appdata\\local\\packages\\pythonsoftwarefoundation.python.3.10_qbz5n2kfra8p0\\localcache\\local-packages\\python310\\site-packages (from pandas==1.5.3) (2022.6)\n",
      "Requirement already satisfied: protobuf<=3.20.1,>=3.12.2 in c:\\users\\vera-\\appdata\\local\\packages\\pythonsoftwarefoundation.python.3.10_qbz5n2kfra8p0\\localcache\\local-packages\\python310\\site-packages (from onnx==1.12.0) (3.20.1)\n",
      "Requirement already satisfied: typing-extensions>=3.6.2.1 in c:\\users\\vera-\\appdata\\local\\packages\\pythonsoftwarefoundation.python.3.10_qbz5n2kfra8p0\\localcache\\local-packages\\python310\\site-packages (from onnx==1.12.0) (4.13.2)\n",
      "Requirement already satisfied: gym>=0.19.0 in c:\\users\\vera-\\appdata\\local\\packages\\pythonsoftwarefoundation.python.3.10_qbz5n2kfra8p0\\localcache\\local-packages\\python310\\site-packages (from gym_mtsim) (0.26.2)\n",
      "Requirement already satisfied: scipy>=1.7.1 in c:\\users\\vera-\\appdata\\local\\packages\\pythonsoftwarefoundation.python.3.10_qbz5n2kfra8p0\\localcache\\local-packages\\python310\\site-packages (from gym_mtsim) (1.15.3)\n",
      "Requirement already satisfied: matplotlib>=3.4.2 in c:\\users\\vera-\\appdata\\local\\packages\\pythonsoftwarefoundation.python.3.10_qbz5n2kfra8p0\\localcache\\local-packages\\python310\\site-packages (from gym_mtsim) (3.8.2)\n",
      "Requirement already satisfied: plotly>=5.3.1 in c:\\users\\vera-\\appdata\\local\\packages\\pythonsoftwarefoundation.python.3.10_qbz5n2kfra8p0\\localcache\\local-packages\\python310\\site-packages (from gym_mtsim) (6.0.1)\n",
      "Requirement already satisfied: nbformat>=5.1.3 in c:\\users\\vera-\\appdata\\local\\packages\\pythonsoftwarefoundation.python.3.10_qbz5n2kfra8p0\\localcache\\local-packages\\python310\\site-packages (from gym_mtsim) (5.10.4)\n",
      "Requirement already satisfied: pathos>=0.2.8 in c:\\users\\vera-\\appdata\\local\\packages\\pythonsoftwarefoundation.python.3.10_qbz5n2kfra8p0\\localcache\\local-packages\\python310\\site-packages (from gym_mtsim) (0.3.4)\n",
      "Requirement already satisfied: MetaTrader5>=5.0.35 in c:\\users\\vera-\\appdata\\local\\packages\\pythonsoftwarefoundation.python.3.10_qbz5n2kfra8p0\\localcache\\local-packages\\python310\\site-packages (from gym_mtsim) (5.0.4993)\n",
      "Requirement already satisfied: alembic>=1.5.0 in c:\\users\\vera-\\appdata\\local\\packages\\pythonsoftwarefoundation.python.3.10_qbz5n2kfra8p0\\localcache\\local-packages\\python310\\site-packages (from optuna) (1.15.2)\n",
      "Requirement already satisfied: colorlog in c:\\users\\vera-\\appdata\\local\\packages\\pythonsoftwarefoundation.python.3.10_qbz5n2kfra8p0\\localcache\\local-packages\\python310\\site-packages (from optuna) (6.9.0)\n",
      "Requirement already satisfied: packaging>=20.0 in c:\\users\\vera-\\appdata\\local\\packages\\pythonsoftwarefoundation.python.3.10_qbz5n2kfra8p0\\localcache\\local-packages\\python310\\site-packages (from optuna) (21.3)\n",
      "Requirement already satisfied: sqlalchemy>=1.4.2 in c:\\users\\vera-\\appdata\\local\\packages\\pythonsoftwarefoundation.python.3.10_qbz5n2kfra8p0\\localcache\\local-packages\\python310\\site-packages (from optuna) (2.0.40)\n",
      "Requirement already satisfied: tqdm in c:\\users\\vera-\\appdata\\local\\packages\\pythonsoftwarefoundation.python.3.10_qbz5n2kfra8p0\\localcache\\local-packages\\python310\\site-packages (from optuna) (4.64.1)\n",
      "Requirement already satisfied: PyYAML in c:\\users\\vera-\\appdata\\local\\packages\\pythonsoftwarefoundation.python.3.10_qbz5n2kfra8p0\\localcache\\local-packages\\python310\\site-packages (from optuna) (6.0)\n",
      "Requirement already satisfied: gymnasium<1.2.0,>=0.29.1 in c:\\users\\vera-\\appdata\\local\\packages\\pythonsoftwarefoundation.python.3.10_qbz5n2kfra8p0\\localcache\\local-packages\\python310\\site-packages (from stable-baselines3[extra]) (1.1.1)\n",
      "Requirement already satisfied: torch<3.0,>=2.3 in c:\\users\\vera-\\appdata\\local\\packages\\pythonsoftwarefoundation.python.3.10_qbz5n2kfra8p0\\localcache\\local-packages\\python310\\site-packages (from stable-baselines3[extra]) (2.7.0)\n",
      "Requirement already satisfied: cloudpickle in c:\\users\\vera-\\appdata\\local\\packages\\pythonsoftwarefoundation.python.3.10_qbz5n2kfra8p0\\localcache\\local-packages\\python310\\site-packages (from stable-baselines3[extra]) (3.1.1)\n",
      "Requirement already satisfied: opencv-python in c:\\users\\vera-\\appdata\\local\\packages\\pythonsoftwarefoundation.python.3.10_qbz5n2kfra8p0\\localcache\\local-packages\\python310\\site-packages (from stable-baselines3[extra]) (4.9.0.80)\n",
      "Requirement already satisfied: pygame in c:\\users\\vera-\\appdata\\local\\packages\\pythonsoftwarefoundation.python.3.10_qbz5n2kfra8p0\\localcache\\local-packages\\python310\\site-packages (from stable-baselines3[extra]) (2.6.1)\n",
      "Requirement already satisfied: tensorboard>=2.9.1 in c:\\users\\vera-\\appdata\\local\\packages\\pythonsoftwarefoundation.python.3.10_qbz5n2kfra8p0\\localcache\\local-packages\\python310\\site-packages (from stable-baselines3[extra]) (2.19.0)\n",
      "Requirement already satisfied: psutil in c:\\users\\vera-\\appdata\\local\\packages\\pythonsoftwarefoundation.python.3.10_qbz5n2kfra8p0\\localcache\\local-packages\\python310\\site-packages (from stable-baselines3[extra]) (5.9.5)\n",
      "Requirement already satisfied: rich in c:\\users\\vera-\\appdata\\local\\packages\\pythonsoftwarefoundation.python.3.10_qbz5n2kfra8p0\\localcache\\local-packages\\python310\\site-packages (from stable-baselines3[extra]) (12.6.0)\n",
      "Requirement already satisfied: ale-py>=0.9.0 in c:\\users\\vera-\\appdata\\local\\packages\\pythonsoftwarefoundation.python.3.10_qbz5n2kfra8p0\\localcache\\local-packages\\python310\\site-packages (from stable-baselines3[extra]) (0.11.0)\n",
      "Requirement already satisfied: pillow in c:\\users\\vera-\\appdata\\local\\packages\\pythonsoftwarefoundation.python.3.10_qbz5n2kfra8p0\\localcache\\local-packages\\python310\\site-packages (from stable-baselines3[extra]) (9.3.0)\n",
      "Requirement already satisfied: farama-notifications>=0.0.1 in c:\\users\\vera-\\appdata\\local\\packages\\pythonsoftwarefoundation.python.3.10_qbz5n2kfra8p0\\localcache\\local-packages\\python310\\site-packages (from gymnasium<1.2.0,>=0.29.1->stable-baselines3[extra]) (0.0.4)\n",
      "Requirement already satisfied: filelock in c:\\users\\vera-\\appdata\\local\\packages\\pythonsoftwarefoundation.python.3.10_qbz5n2kfra8p0\\localcache\\local-packages\\python310\\site-packages (from torch<3.0,>=2.3->stable-baselines3[extra]) (3.13.1)\n",
      "Requirement already satisfied: sympy>=1.13.3 in c:\\users\\vera-\\appdata\\local\\packages\\pythonsoftwarefoundation.python.3.10_qbz5n2kfra8p0\\localcache\\local-packages\\python310\\site-packages (from torch<3.0,>=2.3->stable-baselines3[extra]) (1.14.0)\n",
      "Requirement already satisfied: networkx in c:\\users\\vera-\\appdata\\local\\packages\\pythonsoftwarefoundation.python.3.10_qbz5n2kfra8p0\\localcache\\local-packages\\python310\\site-packages (from torch<3.0,>=2.3->stable-baselines3[extra]) (3.1)\n",
      "Requirement already satisfied: jinja2 in c:\\users\\vera-\\appdata\\local\\packages\\pythonsoftwarefoundation.python.3.10_qbz5n2kfra8p0\\localcache\\local-packages\\python310\\site-packages (from torch<3.0,>=2.3->stable-baselines3[extra]) (3.1.2)\n",
      "Requirement already satisfied: fsspec in c:\\users\\vera-\\appdata\\local\\packages\\pythonsoftwarefoundation.python.3.10_qbz5n2kfra8p0\\localcache\\local-packages\\python310\\site-packages (from torch<3.0,>=2.3->stable-baselines3[extra]) (2023.6.0)\n",
      "Requirement already satisfied: coloredlogs in c:\\users\\vera-\\appdata\\local\\packages\\pythonsoftwarefoundation.python.3.10_qbz5n2kfra8p0\\localcache\\local-packages\\python310\\site-packages (from onnxruntime) (15.0.1)\n",
      "Requirement already satisfied: flatbuffers in c:\\users\\vera-\\appdata\\local\\packages\\pythonsoftwarefoundation.python.3.10_qbz5n2kfra8p0\\localcache\\local-packages\\python310\\site-packages (from onnxruntime) (25.2.10)\n",
      "Requirement already satisfied: Mako in c:\\users\\vera-\\appdata\\local\\packages\\pythonsoftwarefoundation.python.3.10_qbz5n2kfra8p0\\localcache\\local-packages\\python310\\site-packages (from alembic>=1.5.0->optuna) (1.3.10)\n",
      "Requirement already satisfied: gym_notices>=0.0.4 in c:\\users\\vera-\\appdata\\local\\packages\\pythonsoftwarefoundation.python.3.10_qbz5n2kfra8p0\\localcache\\local-packages\\python310\\site-packages (from gym>=0.19.0->gym_mtsim) (0.0.8)\n",
      "Requirement already satisfied: contourpy>=1.0.1 in c:\\users\\vera-\\appdata\\local\\packages\\pythonsoftwarefoundation.python.3.10_qbz5n2kfra8p0\\localcache\\local-packages\\python310\\site-packages (from matplotlib>=3.4.2->gym_mtsim) (1.2.0)\n",
      "Requirement already satisfied: cycler>=0.10 in c:\\users\\vera-\\appdata\\local\\packages\\pythonsoftwarefoundation.python.3.10_qbz5n2kfra8p0\\localcache\\local-packages\\python310\\site-packages (from matplotlib>=3.4.2->gym_mtsim) (0.12.1)\n",
      "Requirement already satisfied: fonttools>=4.22.0 in c:\\users\\vera-\\appdata\\local\\packages\\pythonsoftwarefoundation.python.3.10_qbz5n2kfra8p0\\localcache\\local-packages\\python310\\site-packages (from matplotlib>=3.4.2->gym_mtsim) (4.46.0)\n",
      "Requirement already satisfied: kiwisolver>=1.3.1 in c:\\users\\vera-\\appdata\\local\\packages\\pythonsoftwarefoundation.python.3.10_qbz5n2kfra8p0\\localcache\\local-packages\\python310\\site-packages (from matplotlib>=3.4.2->gym_mtsim) (1.4.5)\n",
      "Requirement already satisfied: pyparsing>=2.3.1 in c:\\users\\vera-\\appdata\\local\\packages\\pythonsoftwarefoundation.python.3.10_qbz5n2kfra8p0\\localcache\\local-packages\\python310\\site-packages (from matplotlib>=3.4.2->gym_mtsim) (3.0.9)\n",
      "Requirement already satisfied: fastjsonschema>=2.15 in c:\\users\\vera-\\appdata\\local\\packages\\pythonsoftwarefoundation.python.3.10_qbz5n2kfra8p0\\localcache\\local-packages\\python310\\site-packages (from nbformat>=5.1.3->gym_mtsim) (2.21.1)\n",
      "Requirement already satisfied: jsonschema>=2.6 in c:\\users\\vera-\\appdata\\local\\packages\\pythonsoftwarefoundation.python.3.10_qbz5n2kfra8p0\\localcache\\local-packages\\python310\\site-packages (from nbformat>=5.1.3->gym_mtsim) (4.17.0)\n",
      "Requirement already satisfied: jupyter-core!=5.0.*,>=4.12 in c:\\users\\vera-\\appdata\\local\\packages\\pythonsoftwarefoundation.python.3.10_qbz5n2kfra8p0\\localcache\\local-packages\\python310\\site-packages (from nbformat>=5.1.3->gym_mtsim) (5.7.1)\n",
      "Requirement already satisfied: traitlets>=5.1 in c:\\users\\vera-\\appdata\\local\\packages\\pythonsoftwarefoundation.python.3.10_qbz5n2kfra8p0\\localcache\\local-packages\\python310\\site-packages (from nbformat>=5.1.3->gym_mtsim) (5.14.1)\n",
      "Requirement already satisfied: attrs>=17.4.0 in c:\\users\\vera-\\appdata\\local\\packages\\pythonsoftwarefoundation.python.3.10_qbz5n2kfra8p0\\localcache\\local-packages\\python310\\site-packages (from jsonschema>=2.6->nbformat>=5.1.3->gym_mtsim) (22.1.0)\n",
      "Requirement already satisfied: pyrsistent!=0.17.0,!=0.17.1,!=0.17.2,>=0.14.0 in c:\\users\\vera-\\appdata\\local\\packages\\pythonsoftwarefoundation.python.3.10_qbz5n2kfra8p0\\localcache\\local-packages\\python310\\site-packages (from jsonschema>=2.6->nbformat>=5.1.3->gym_mtsim) (0.19.2)\n",
      "Requirement already satisfied: platformdirs>=2.5 in c:\\users\\vera-\\appdata\\local\\packages\\pythonsoftwarefoundation.python.3.10_qbz5n2kfra8p0\\localcache\\local-packages\\python310\\site-packages (from jupyter-core!=5.0.*,>=4.12->nbformat>=5.1.3->gym_mtsim) (4.1.0)\n",
      "Requirement already satisfied: pywin32>=300 in c:\\users\\vera-\\appdata\\local\\packages\\pythonsoftwarefoundation.python.3.10_qbz5n2kfra8p0\\localcache\\local-packages\\python310\\site-packages (from jupyter-core!=5.0.*,>=4.12->nbformat>=5.1.3->gym_mtsim) (306)\n",
      "Requirement already satisfied: ppft>=1.7.7 in c:\\users\\vera-\\appdata\\local\\packages\\pythonsoftwarefoundation.python.3.10_qbz5n2kfra8p0\\localcache\\local-packages\\python310\\site-packages (from pathos>=0.2.8->gym_mtsim) (1.7.7)\n",
      "Requirement already satisfied: dill>=0.4.0 in c:\\users\\vera-\\appdata\\local\\packages\\pythonsoftwarefoundation.python.3.10_qbz5n2kfra8p0\\localcache\\local-packages\\python310\\site-packages (from pathos>=0.2.8->gym_mtsim) (0.4.0)\n",
      "Requirement already satisfied: pox>=0.3.6 in c:\\users\\vera-\\appdata\\local\\packages\\pythonsoftwarefoundation.python.3.10_qbz5n2kfra8p0\\localcache\\local-packages\\python310\\site-packages (from pathos>=0.2.8->gym_mtsim) (0.3.6)\n",
      "Requirement already satisfied: multiprocess>=0.70.18 in c:\\users\\vera-\\appdata\\local\\packages\\pythonsoftwarefoundation.python.3.10_qbz5n2kfra8p0\\localcache\\local-packages\\python310\\site-packages (from pathos>=0.2.8->gym_mtsim) (0.70.18)\n",
      "Requirement already satisfied: narwhals>=1.15.1 in c:\\users\\vera-\\appdata\\local\\packages\\pythonsoftwarefoundation.python.3.10_qbz5n2kfra8p0\\localcache\\local-packages\\python310\\site-packages (from plotly>=5.3.1->gym_mtsim) (1.38.2)\n",
      "Requirement already satisfied: six>=1.5 in c:\\users\\vera-\\appdata\\local\\packages\\pythonsoftwarefoundation.python.3.10_qbz5n2kfra8p0\\localcache\\local-packages\\python310\\site-packages (from python-dateutil>=2.8.1->pandas==1.5.3) (1.16.0)\n",
      "Requirement already satisfied: greenlet>=1 in c:\\users\\vera-\\appdata\\local\\packages\\pythonsoftwarefoundation.python.3.10_qbz5n2kfra8p0\\localcache\\local-packages\\python310\\site-packages (from sqlalchemy>=1.4.2->optuna) (3.2.2)\n",
      "Requirement already satisfied: mpmath<1.4,>=1.1.0 in c:\\users\\vera-\\appdata\\local\\packages\\pythonsoftwarefoundation.python.3.10_qbz5n2kfra8p0\\localcache\\local-packages\\python310\\site-packages (from sympy>=1.13.3->torch<3.0,>=2.3->stable-baselines3[extra]) (1.3.0)\n",
      "Requirement already satisfied: absl-py>=0.4 in c:\\users\\vera-\\appdata\\local\\packages\\pythonsoftwarefoundation.python.3.10_qbz5n2kfra8p0\\localcache\\local-packages\\python310\\site-packages (from tensorboard>=2.9.1->stable-baselines3[extra]) (2.2.2)\n",
      "Requirement already satisfied: grpcio>=1.48.2 in c:\\users\\vera-\\appdata\\local\\packages\\pythonsoftwarefoundation.python.3.10_qbz5n2kfra8p0\\localcache\\local-packages\\python310\\site-packages (from tensorboard>=2.9.1->stable-baselines3[extra]) (1.71.0)\n",
      "Requirement already satisfied: markdown>=2.6.8 in c:\\users\\vera-\\appdata\\local\\packages\\pythonsoftwarefoundation.python.3.10_qbz5n2kfra8p0\\localcache\\local-packages\\python310\\site-packages (from tensorboard>=2.9.1->stable-baselines3[extra]) (3.8)\n",
      "Requirement already satisfied: setuptools>=41.0.0 in c:\\users\\vera-\\appdata\\local\\packages\\pythonsoftwarefoundation.python.3.10_qbz5n2kfra8p0\\localcache\\local-packages\\python310\\site-packages (from tensorboard>=2.9.1->stable-baselines3[extra]) (80.7.1)\n",
      "Requirement already satisfied: tensorboard-data-server<0.8.0,>=0.7.0 in c:\\users\\vera-\\appdata\\local\\packages\\pythonsoftwarefoundation.python.3.10_qbz5n2kfra8p0\\localcache\\local-packages\\python310\\site-packages (from tensorboard>=2.9.1->stable-baselines3[extra]) (0.7.2)\n",
      "Requirement already satisfied: werkzeug>=1.0.1 in c:\\users\\vera-\\appdata\\local\\packages\\pythonsoftwarefoundation.python.3.10_qbz5n2kfra8p0\\localcache\\local-packages\\python310\\site-packages (from tensorboard>=2.9.1->stable-baselines3[extra]) (2.0.3)\n",
      "Requirement already satisfied: humanfriendly>=9.1 in c:\\users\\vera-\\appdata\\local\\packages\\pythonsoftwarefoundation.python.3.10_qbz5n2kfra8p0\\localcache\\local-packages\\python310\\site-packages (from coloredlogs->onnxruntime) (10.0)\n",
      "Requirement already satisfied: pyreadline3 in c:\\users\\vera-\\appdata\\local\\packages\\pythonsoftwarefoundation.python.3.10_qbz5n2kfra8p0\\localcache\\local-packages\\python310\\site-packages (from humanfriendly>=9.1->coloredlogs->onnxruntime) (3.5.4)\n",
      "Requirement already satisfied: colorama in c:\\users\\vera-\\appdata\\local\\packages\\pythonsoftwarefoundation.python.3.10_qbz5n2kfra8p0\\localcache\\local-packages\\python310\\site-packages (from colorlog->optuna) (0.4.6)\n",
      "Requirement already satisfied: MarkupSafe>=2.0 in c:\\users\\vera-\\appdata\\local\\packages\\pythonsoftwarefoundation.python.3.10_qbz5n2kfra8p0\\localcache\\local-packages\\python310\\site-packages (from jinja2->torch<3.0,>=2.3->stable-baselines3[extra]) (2.1.1)\n",
      "Requirement already satisfied: commonmark<0.10.0,>=0.9.0 in c:\\users\\vera-\\appdata\\local\\packages\\pythonsoftwarefoundation.python.3.10_qbz5n2kfra8p0\\localcache\\local-packages\\python310\\site-packages (from rich->stable-baselines3[extra]) (0.9.1)\n",
      "Requirement already satisfied: pygments<3.0.0,>=2.6.0 in c:\\users\\vera-\\appdata\\local\\packages\\pythonsoftwarefoundation.python.3.10_qbz5n2kfra8p0\\localcache\\local-packages\\python310\\site-packages (from rich->stable-baselines3[extra]) (2.13.0)\n",
      "Note: you may need to restart the kernel to use updated packages.\n"
     ]
    }
   ],
   "source": [
    "pip install pandas==1.5.3 numpy gym_mtsim optuna stable-baselines3[extra] onnx==1.12.0 onnxruntime"
   ]
  },
  {
   "cell_type": "code",
   "execution_count": 3,
   "id": "52a10a32",
   "metadata": {},
   "outputs": [],
   "source": [
    "import numpy as np\n",
    "import pytz"
   ]
  },
  {
   "cell_type": "markdown",
   "id": "90f8ca28",
   "metadata": {},
   "source": [
    "# Создание среды для обучения c использованием библиотеки mtsim"
   ]
  },
  {
   "cell_type": "code",
   "execution_count": 4,
   "id": "68052a2d",
   "metadata": {},
   "outputs": [
    {
     "name": "stdout",
     "output_type": "stream",
     "text": [
      "C:\\Users\\vera-\\AppData\\Local\\Packages\\PythonSoftwareFoundation.Python.3.10_qbz5n2kfra8p0\\LocalCache\\local-packages\\Python310\\site-packages\\gym_mtsim\\data\\symbols_forex.pkl\n"
     ]
    }
   ],
   "source": [
    "from datetime import datetime\n",
    "from gym_mtsim import MtSimulator, Timeframe, FOREX_DATA_PATH, MtEnv\n",
    "from stable_baselines3.common.vec_env import DummyVecEnv\n",
    "from stable_baselines3.common.vec_env import VecNormalize\n",
    "\n",
    "sim = MtSimulator(\n",
    "    unit='USD',\n",
    "    balance=300.,\n",
    "    leverage=100.,\n",
    "    stop_out_level=0.2,\n",
    "    hedge=True,\n",
    "    symbols_filename=FOREX_DATA_PATH\n",
    ")\n",
    "print(FOREX_DATA_PATH)\n",
    "if not sim.load_symbols(FOREX_DATA_PATH):\n",
    "    sim.download_data(\n",
    "        symbols=['USDCHF'],\n",
    "        time_range=(\n",
    "            datetime(2022, 1, 1, tzinfo=pytz.UTC),\n",
    "            datetime(2022, 12, 31, tzinfo=pytz.UTC)\n",
    "        ),\n",
    "        timeframe=Timeframe.H4\n",
    "    )\n",
    "    sim.save_symbols(FOREX_DATA_PATH)\n",
    "\n",
    "training_env = MtEnv(\n",
    "    original_simulator=sim,\n",
    "    trading_symbols=['USDCHF'],\n",
    "    window_size=10,\n",
    "    hold_threshold=0.5,\n",
    "    close_threshold=0.5,\n",
    "    fee=lambda symbol: {\n",
    "        'USDCHF': max(0., np.random.normal(0.0007, 0.00005))\n",
    "    }[symbol],\n",
    "    symbol_max_orders=2,\n",
    "    multiprocessing_processes=2\n",
    ")\n",
    "\n",
    "training_env = DummyVecEnv([lambda: training_env])\n",
    "\n",
    "# Нормализация\n",
    "training_env = VecNormalize(training_env, norm_obs=True, norm_reward=True)"
   ]
  },
  {
   "cell_type": "markdown",
   "id": "91a217f4",
   "metadata": {},
   "source": [
    "# Оптимизация посредством Optuna"
   ]
  },
  {
   "cell_type": "code",
   "execution_count": 6,
   "id": "1dd61a98",
   "metadata": {},
   "outputs": [
    {
     "name": "stderr",
     "output_type": "stream",
     "text": [
      "[I 2025-05-18 12:14:59,828] A new study created in memory with name: no-name-ee02d548-baf6-4798-892c-934f990fe7a6\n",
      "[I 2025-05-18 12:17:31,961] Trial 0 finished with value: 0.0 and parameters: {'learning_rate': 9.92425462492683e-05, 'n_steps': 256, 'batch_size': 128, 'gamma': 0.9530081036823316, 'gae_lambda': 0.8985330061455146, 'clip_range': 0.11988767838719411, 'ent_coef': 0.0007015536905194769, 'vf_coef': 0.2597703399186894, 'max_grad_norm': 0.9616942761667477, 'net_arch': [256, 256]}. Best is trial 0 with value: 0.0.\n",
      "[I 2025-05-18 12:20:39,031] Trial 1 finished with value: 2.5241170562803745 and parameters: {'learning_rate': 0.000486583231686968, 'n_steps': 1024, 'batch_size': 32, 'gamma': 0.903657620003459, 'gae_lambda': 0.8405170687017561, 'clip_range': 0.32139409763048166, 'ent_coef': 2.004648466205677e-05, 'vf_coef': 0.1451635233011742, 'max_grad_norm': 0.7196322494346872, 'net_arch': [128, 128]}. Best is trial 1 with value: 2.5241170562803745.\n",
      "[I 2025-05-18 12:23:31,393] Trial 2 finished with value: 1.2947614431381225 and parameters: {'learning_rate': 4.064127024800576e-05, 'n_steps': 128, 'batch_size': 32, 'gamma': 0.9759635841126232, 'gae_lambda': 0.9782451016389708, 'clip_range': 0.21420882578288986, 'ent_coef': 2.228971989310692e-05, 'vf_coef': 0.8266027786838885, 'max_grad_norm': 0.3997305461407126, 'net_arch': [64, 64]}. Best is trial 1 with value: 2.5241170562803745.\n",
      "[I 2025-05-18 12:26:15,622] Trial 3 finished with value: -1.1626591851645571 and parameters: {'learning_rate': 1.2681134929905039e-05, 'n_steps': 256, 'batch_size': 32, 'gamma': 0.9655084222872048, 'gae_lambda': 0.8221556627079443, 'clip_range': 0.18142176519164027, 'ent_coef': 0.008704957633270553, 'vf_coef': 0.10853922240406466, 'max_grad_norm': 0.9330993997718511, 'net_arch': [64, 64]}. Best is trial 1 with value: 2.5241170562803745.\n",
      "[I 2025-05-18 12:29:30,482] Trial 4 finished with value: 1.6805419113719835 and parameters: {'learning_rate': 0.00012318751415737843, 'n_steps': 512, 'batch_size': 32, 'gamma': 0.9755373930209326, 'gae_lambda': 0.8085171426425546, 'clip_range': 0.2722010376995363, 'ent_coef': 9.979569230657871e-05, 'vf_coef': 0.3207859272352225, 'max_grad_norm': 0.3876936554639716, 'net_arch': [256, 256]}. Best is trial 1 with value: 2.5241170562803745.\n",
      "[I 2025-05-18 12:32:06,971] Trial 5 finished with value: 0.8717159569263458 and parameters: {'learning_rate': 0.00025095962824527143, 'n_steps': 512, 'batch_size': 64, 'gamma': 0.9938112687186175, 'gae_lambda': 0.8620099632290439, 'clip_range': 0.33176330956219335, 'ent_coef': 0.0002343546465447038, 'vf_coef': 0.3931887508454358, 'max_grad_norm': 0.3044325826471424, 'net_arch': [256, 256]}. Best is trial 1 with value: 2.5241170562803745.\n",
      "[I 2025-05-18 12:34:08,831] Trial 6 finished with value: -0.1098303047940135 and parameters: {'learning_rate': 4.193479327489553e-05, 'n_steps': 1024, 'batch_size': 64, 'gamma': 0.925851270135543, 'gae_lambda': 0.9451902842137069, 'clip_range': 0.234773004471005, 'ent_coef': 0.00013887567706414658, 'vf_coef': 0.22274238136183067, 'max_grad_norm': 0.6626430089320767, 'net_arch': [64, 64]}. Best is trial 1 with value: 2.5241170562803745.\n",
      "[I 2025-05-18 12:36:42,403] Trial 7 finished with value: 3.7159171365201473 and parameters: {'learning_rate': 0.00035596658666563994, 'n_steps': 512, 'batch_size': 64, 'gamma': 0.9877358164616167, 'gae_lambda': 0.8478414912637972, 'clip_range': 0.13891739388001428, 'ent_coef': 0.0003676581774613779, 'vf_coef': 0.7871698084404728, 'max_grad_norm': 0.3141235719754946, 'net_arch': [256, 256]}. Best is trial 7 with value: 3.7159171365201473.\n",
      "[I 2025-05-18 12:39:18,474] Trial 8 finished with value: 0.7847856841981411 and parameters: {'learning_rate': 0.0001529883942454824, 'n_steps': 1024, 'batch_size': 32, 'gamma': 0.9550271720907735, 'gae_lambda': 0.9869404094158158, 'clip_range': 0.10218545768233044, 'ent_coef': 0.0008512501711565216, 'vf_coef': 0.9148245688846267, 'max_grad_norm': 0.6227672729561342, 'net_arch': [64, 64]}. Best is trial 7 with value: 3.7159171365201473.\n",
      "[I 2025-05-18 12:41:46,264] Trial 9 finished with value: 2.2569468268193305 and parameters: {'learning_rate': 2.0874191514530943e-05, 'n_steps': 512, 'batch_size': 64, 'gamma': 0.9088593688527274, 'gae_lambda': 0.8806569135580669, 'clip_range': 0.3300083140842548, 'ent_coef': 0.006412144368540465, 'vf_coef': 0.5083630453003116, 'max_grad_norm': 0.3162915404229661, 'net_arch': [128, 128]}. Best is trial 7 with value: 3.7159171365201473.\n",
      "[I 2025-05-18 12:43:58,856] Trial 10 finished with value: -1.874004808627069 and parameters: {'learning_rate': 0.0009784469038094433, 'n_steps': 128, 'batch_size': 128, 'gamma': 0.9992668334600598, 'gae_lambda': 0.9370193569331547, 'clip_range': 0.39828464750079257, 'ent_coef': 1.0457037305356681e-05, 'vf_coef': 0.7264284403492315, 'max_grad_norm': 0.5034989933948865, 'net_arch': [256, 256]}. Best is trial 7 with value: 3.7159171365201473.\n",
      "[I 2025-05-18 12:46:25,295] Trial 11 finished with value: 0.48853257291484625 and parameters: {'learning_rate': 0.0006914011371753562, 'n_steps': 1024, 'batch_size': 64, 'gamma': 0.9319936561600444, 'gae_lambda': 0.8485642876383831, 'clip_range': 0.29759018595249914, 'ent_coef': 1.6721478872757937e-06, 'vf_coef': 0.6515118374687947, 'max_grad_norm': 0.7908957190901363, 'net_arch': [128, 128]}. Best is trial 7 with value: 3.7159171365201473.\n",
      "[I 2025-05-18 12:49:30,710] Trial 12 finished with value: 0.5898499824106693 and parameters: {'learning_rate': 0.0004817673113716564, 'n_steps': 1024, 'batch_size': 32, 'gamma': 0.900747845140391, 'gae_lambda': 0.84365057552886, 'clip_range': 0.16204235683102428, 'ent_coef': 1.3192526205905238e-05, 'vf_coef': 0.9960890728076515, 'max_grad_norm': 0.7577572606369035, 'net_arch': [128, 128]}. Best is trial 7 with value: 3.7159171365201473.\n",
      "[I 2025-05-18 12:51:51,647] Trial 13 finished with value: 0.45294986171647905 and parameters: {'learning_rate': 0.00037515780479142186, 'n_steps': 512, 'batch_size': 64, 'gamma': 0.9326433015047986, 'gae_lambda': 0.8303417740474666, 'clip_range': 0.3842520164152628, 'ent_coef': 4.342726892691703e-05, 'vf_coef': 0.5316310417707958, 'max_grad_norm': 0.5264706208692697, 'net_arch': [128, 128]}. Best is trial 7 with value: 3.7159171365201473.\n",
      "[I 2025-05-18 12:54:14,891] Trial 14 finished with value: -0.4714123482815921 and parameters: {'learning_rate': 0.000303815625133923, 'n_steps': 1024, 'batch_size': 128, 'gamma': 0.9207309673969534, 'gae_lambda': 0.8733705471891053, 'clip_range': 0.34594028657773584, 'ent_coef': 2.7663474498422787e-06, 'vf_coef': 0.7211850525475769, 'max_grad_norm': 0.8219811231324785, 'net_arch': [256, 256]}. Best is trial 7 with value: 3.7159171365201473.\n",
      "[I 2025-05-18 12:57:37,687] Trial 15 finished with value: -1.970881050825119 and parameters: {'learning_rate': 0.0001900122103010205, 'n_steps': 512, 'batch_size': 32, 'gamma': 0.9398796066515709, 'gae_lambda': 0.9052321909930896, 'clip_range': 0.26988113683080805, 'ent_coef': 0.0012203540515392036, 'vf_coef': 0.11664305478021281, 'max_grad_norm': 0.6440502450727587, 'net_arch': [128, 128]}. Best is trial 7 with value: 3.7159171365201473.\n",
      "[I 2025-05-18 13:00:20,757] Trial 16 finished with value: -1.6729427084326745 and parameters: {'learning_rate': 0.0005367843632452319, 'n_steps': 256, 'batch_size': 64, 'gamma': 0.9859125049626545, 'gae_lambda': 0.8083764777960438, 'clip_range': 0.15248736199584476, 'ent_coef': 0.00035839305805783565, 'vf_coef': 0.42975830488527134, 'max_grad_norm': 0.5091440516071023, 'net_arch': [128, 128]}. Best is trial 7 with value: 3.7159171365201473.\n",
      "[I 2025-05-18 13:03:10,046] Trial 17 finished with value: 0.0 and parameters: {'learning_rate': 7.985584074645e-05, 'n_steps': 128, 'batch_size': 64, 'gamma': 0.9430969956582217, 'gae_lambda': 0.9058327526514917, 'clip_range': 0.20374991939855844, 'ent_coef': 4.859681955667339e-05, 'vf_coef': 0.6132707422864097, 'max_grad_norm': 0.8787516658043526, 'net_arch': [256, 256]}. Best is trial 7 with value: 3.7159171365201473.\n",
      "[I 2025-05-18 13:06:26,526] Trial 18 finished with value: 0.5279322613030673 and parameters: {'learning_rate': 0.0007949029125954927, 'n_steps': 1024, 'batch_size': 32, 'gamma': 0.9156774827051877, 'gae_lambda': 0.841717142270655, 'clip_range': 0.30170747385194013, 'ent_coef': 7.420595988170168e-06, 'vf_coef': 0.8271107011799715, 'max_grad_norm': 0.7326616122179861, 'net_arch': [128, 128]}. Best is trial 7 with value: 3.7159171365201473.\n",
      "[I 2025-05-18 13:09:05,210] Trial 19 finished with value: 2.612584876269102 and parameters: {'learning_rate': 0.00023383503387289936, 'n_steps': 512, 'batch_size': 128, 'gamma': 0.9634277367662567, 'gae_lambda': 0.8001271160698611, 'clip_range': 0.36335912279020866, 'ent_coef': 3.812807657252014e-06, 'vf_coef': 0.7438265223125299, 'max_grad_norm': 0.578022050997082, 'net_arch': [256, 256]}. Best is trial 7 with value: 3.7159171365201473.\n"
     ]
    },
    {
     "name": "stdout",
     "output_type": "stream",
     "text": [
      "Лучшие гиперпараметры: {'learning_rate': 0.00035596658666563994, 'n_steps': 512, 'batch_size': 64, 'gamma': 0.9877358164616167, 'gae_lambda': 0.8478414912637972, 'clip_range': 0.13891739388001428, 'ent_coef': 0.0003676581774613779, 'vf_coef': 0.7871698084404728, 'max_grad_norm': 0.3141235719754946, 'net_arch': [256, 256]}\n"
     ]
    }
   ],
   "source": [
    "import optuna\n",
    "from stable_baselines3 import PPO\n",
    "from stable_baselines3.common.evaluation import evaluate_policy\n",
    "\n",
    "def optimize_agent(trial):\n",
    "    learning_rate = trial.suggest_loguniform('learning_rate', 1e-5, 1e-3)\n",
    "    n_steps = trial.suggest_categorical('n_steps', [128, 256, 512, 1024])\n",
    "    batch_size = trial.suggest_categorical('batch_size', [32, 64, 128])\n",
    "    gamma = trial.suggest_uniform('gamma', 0.9, 0.9999)\n",
    "    gae_lambda = trial.suggest_uniform('gae_lambda', 0.8, 1.0)\n",
    "    clip_range = trial.suggest_uniform('clip_range', 0.1, 0.4)\n",
    "    ent_coef = trial.suggest_loguniform('ent_coef', 1e-6, 1e-2)\n",
    "    vf_coef = trial.suggest_uniform('vf_coef', 0.1, 1.0)\n",
    "    max_grad_norm = trial.suggest_uniform('max_grad_norm', 0.3, 1.0)\n",
    "    net_arch = trial.suggest_categorical('net_arch', [[64, 64], [128, 128], [256, 256]])\n",
    "\n",
    "    policy_kwargs = dict(net_arch=net_arch)\n",
    "\n",
    "    model = PPO(\n",
    "        \"MultiInputPolicy\",\n",
    "        training_env,\n",
    "        verbose=0,\n",
    "        learning_rate=learning_rate,\n",
    "        n_steps=n_steps,\n",
    "        batch_size=batch_size,\n",
    "        gamma=gamma,\n",
    "        gae_lambda=gae_lambda,\n",
    "        clip_range=clip_range,\n",
    "        ent_coef=ent_coef,\n",
    "        vf_coef=vf_coef,\n",
    "        max_grad_norm=max_grad_norm,\n",
    "        policy_kwargs=policy_kwargs\n",
    "    )\n",
    "\n",
    "    model.learn(total_timesteps=50000)\n",
    "    mean_reward, _ = evaluate_policy(model, training_env, n_eval_episodes=5, deterministic=True)\n",
    "    return mean_reward\n",
    "\n",
    "study = optuna.create_study(direction=\"maximize\")\n",
    "study.optimize(optimize_agent, n_trials=20)\n",
    "\n",
    "print(\"Лучшие гиперпараметры:\", study.best_params)"
   ]
  },
  {
   "cell_type": "markdown",
   "id": "da5c8cde",
   "metadata": {},
   "source": [
    "# Обучение модели с использованием stable-baseline3"
   ]
  },
  {
   "cell_type": "code",
   "execution_count": 6,
   "id": "1b097841",
   "metadata": {},
   "outputs": [
    {
     "name": "stdout",
     "output_type": "stream",
     "text": [
      "Requirement already satisfied: tensorboard in c:\\users\\vera-\\appdata\\local\\packages\\pythonsoftwarefoundation.python.3.10_qbz5n2kfra8p0\\localcache\\local-packages\\python310\\site-packages (2.19.0)\n",
      "Requirement already satisfied: absl-py>=0.4 in c:\\users\\vera-\\appdata\\local\\packages\\pythonsoftwarefoundation.python.3.10_qbz5n2kfra8p0\\localcache\\local-packages\\python310\\site-packages (from tensorboard) (2.2.2)\n",
      "Requirement already satisfied: grpcio>=1.48.2 in c:\\users\\vera-\\appdata\\local\\packages\\pythonsoftwarefoundation.python.3.10_qbz5n2kfra8p0\\localcache\\local-packages\\python310\\site-packages (from tensorboard) (1.71.0)\n",
      "Requirement already satisfied: markdown>=2.6.8 in c:\\users\\vera-\\appdata\\local\\packages\\pythonsoftwarefoundation.python.3.10_qbz5n2kfra8p0\\localcache\\local-packages\\python310\\site-packages (from tensorboard) (3.8)\n",
      "Requirement already satisfied: numpy>=1.12.0 in c:\\users\\vera-\\appdata\\local\\packages\\pythonsoftwarefoundation.python.3.10_qbz5n2kfra8p0\\localcache\\local-packages\\python310\\site-packages (from tensorboard) (1.26.4)\n",
      "Requirement already satisfied: packaging in c:\\users\\vera-\\appdata\\local\\packages\\pythonsoftwarefoundation.python.3.10_qbz5n2kfra8p0\\localcache\\local-packages\\python310\\site-packages (from tensorboard) (21.3)\n",
      "Requirement already satisfied: protobuf!=4.24.0,>=3.19.6 in c:\\users\\vera-\\appdata\\local\\packages\\pythonsoftwarefoundation.python.3.10_qbz5n2kfra8p0\\localcache\\local-packages\\python310\\site-packages (from tensorboard) (3.20.1)\n",
      "Requirement already satisfied: setuptools>=41.0.0 in c:\\users\\vera-\\appdata\\local\\packages\\pythonsoftwarefoundation.python.3.10_qbz5n2kfra8p0\\localcache\\local-packages\\python310\\site-packages (from tensorboard) (80.7.1)\n",
      "Requirement already satisfied: six>1.9 in c:\\users\\vera-\\appdata\\local\\packages\\pythonsoftwarefoundation.python.3.10_qbz5n2kfra8p0\\localcache\\local-packages\\python310\\site-packages (from tensorboard) (1.16.0)\n",
      "Requirement already satisfied: tensorboard-data-server<0.8.0,>=0.7.0 in c:\\users\\vera-\\appdata\\local\\packages\\pythonsoftwarefoundation.python.3.10_qbz5n2kfra8p0\\localcache\\local-packages\\python310\\site-packages (from tensorboard) (0.7.2)\n",
      "Requirement already satisfied: werkzeug>=1.0.1 in c:\\users\\vera-\\appdata\\local\\packages\\pythonsoftwarefoundation.python.3.10_qbz5n2kfra8p0\\localcache\\local-packages\\python310\\site-packages (from tensorboard) (2.0.3)\n",
      "Requirement already satisfied: pyparsing!=3.0.5,>=2.0.2 in c:\\users\\vera-\\appdata\\local\\packages\\pythonsoftwarefoundation.python.3.10_qbz5n2kfra8p0\\localcache\\local-packages\\python310\\site-packages (from packaging->tensorboard) (3.0.9)\n"
     ]
    }
   ],
   "source": [
    "! pip install tensorboard"
   ]
  },
  {
   "cell_type": "code",
   "execution_count": 11,
   "id": "b464cc27",
   "metadata": {},
   "outputs": [
    {
     "name": "stdout",
     "output_type": "stream",
     "text": [
      "Eval num_timesteps=1000, episode_reward=0.16 +/- 0.00\n",
      "Episode length: 78.00 +/- 0.00\n",
      "New best mean reward!\n",
      "Eval num_timesteps=2000, episode_reward=0.16 +/- 0.00\n",
      "Episode length: 78.00 +/- 0.00\n",
      "New best mean reward!\n",
      "Eval num_timesteps=3000, episode_reward=-0.20 +/- 0.02\n",
      "Episode length: 78.00 +/- 0.00\n",
      "Eval num_timesteps=4000, episode_reward=-0.18 +/- 0.01\n",
      "Episode length: 78.00 +/- 0.00\n",
      "Eval num_timesteps=5000, episode_reward=-2.06 +/- 0.03\n",
      "Episode length: 78.00 +/- 0.00\n",
      "Eval num_timesteps=6000, episode_reward=-2.03 +/- 0.06\n",
      "Episode length: 78.00 +/- 0.00\n",
      "Eval num_timesteps=7000, episode_reward=-1.78 +/- 0.25\n",
      "Episode length: 78.00 +/- 0.00\n",
      "Eval num_timesteps=8000, episode_reward=-2.05 +/- 0.03\n",
      "Episode length: 78.00 +/- 0.00\n",
      "Eval num_timesteps=9000, episode_reward=-1.51 +/- 0.07\n",
      "Episode length: 78.00 +/- 0.00\n",
      "Eval num_timesteps=10000, episode_reward=-1.62 +/- 0.15\n",
      "Episode length: 78.00 +/- 0.00\n",
      "Eval num_timesteps=11000, episode_reward=-1.93 +/- 0.10\n",
      "Episode length: 78.00 +/- 0.00\n",
      "Eval num_timesteps=12000, episode_reward=-1.84 +/- 0.13\n",
      "Episode length: 78.00 +/- 0.00\n",
      "Eval num_timesteps=13000, episode_reward=-1.31 +/- 0.40\n",
      "Episode length: 78.00 +/- 0.00\n",
      "Eval num_timesteps=14000, episode_reward=-1.71 +/- 0.48\n",
      "Episode length: 78.00 +/- 0.00\n",
      "Eval num_timesteps=15000, episode_reward=-0.59 +/- 0.55\n",
      "Episode length: 78.00 +/- 0.00\n",
      "Eval num_timesteps=16000, episode_reward=0.19 +/- 0.92\n",
      "Episode length: 78.00 +/- 0.00\n",
      "New best mean reward!\n",
      "Eval num_timesteps=17000, episode_reward=-1.29 +/- 0.36\n",
      "Episode length: 78.00 +/- 0.00\n",
      "Eval num_timesteps=18000, episode_reward=-1.19 +/- 0.12\n",
      "Episode length: 78.00 +/- 0.00\n",
      "Eval num_timesteps=19000, episode_reward=-1.96 +/- 0.07\n",
      "Episode length: 78.00 +/- 0.00\n",
      "Eval num_timesteps=20000, episode_reward=-2.03 +/- 0.06\n",
      "Episode length: 78.00 +/- 0.00\n",
      "Eval num_timesteps=21000, episode_reward=-1.56 +/- 0.00\n",
      "Episode length: 78.00 +/- 0.00\n",
      "Eval num_timesteps=22000, episode_reward=-1.53 +/- 0.06\n",
      "Episode length: 78.00 +/- 0.00\n",
      "Eval num_timesteps=23000, episode_reward=-0.62 +/- 0.07\n",
      "Episode length: 78.00 +/- 0.00\n",
      "Eval num_timesteps=24000, episode_reward=-0.78 +/- 0.20\n",
      "Episode length: 78.00 +/- 0.00\n",
      "Eval num_timesteps=25000, episode_reward=0.52 +/- 0.71\n",
      "Episode length: 78.00 +/- 0.00\n",
      "New best mean reward!\n",
      "Eval num_timesteps=26000, episode_reward=1.29 +/- 0.05\n",
      "Episode length: 78.00 +/- 0.00\n",
      "New best mean reward!\n",
      "Eval num_timesteps=27000, episode_reward=-1.49 +/- 0.03\n",
      "Episode length: 78.00 +/- 0.00\n",
      "Eval num_timesteps=28000, episode_reward=-1.40 +/- 0.19\n",
      "Episode length: 78.00 +/- 0.00\n",
      "Eval num_timesteps=29000, episode_reward=-2.07 +/- 0.00\n",
      "Episode length: 78.00 +/- 0.00\n",
      "Eval num_timesteps=30000, episode_reward=-2.07 +/- 0.01\n",
      "Episode length: 78.00 +/- 0.00\n",
      "Eval num_timesteps=31000, episode_reward=-1.79 +/- 0.03\n",
      "Episode length: 78.00 +/- 0.00\n",
      "Eval num_timesteps=32000, episode_reward=-1.82 +/- 0.01\n",
      "Episode length: 78.00 +/- 0.00\n",
      "Eval num_timesteps=33000, episode_reward=0.00 +/- 0.00\n",
      "Episode length: 78.00 +/- 0.00\n",
      "Eval num_timesteps=34000, episode_reward=0.06 +/- 0.13\n",
      "Episode length: 78.00 +/- 0.00\n",
      "Eval num_timesteps=35000, episode_reward=0.41 +/- 0.01\n",
      "Episode length: 78.00 +/- 0.00\n",
      "Eval num_timesteps=36000, episode_reward=0.41 +/- 0.01\n",
      "Episode length: 78.00 +/- 0.00\n",
      "Eval num_timesteps=37000, episode_reward=0.46 +/- 0.01\n",
      "Episode length: 78.00 +/- 0.00\n",
      "Eval num_timesteps=38000, episode_reward=0.46 +/- 0.01\n",
      "Episode length: 78.00 +/- 0.00\n",
      "Eval num_timesteps=39000, episode_reward=0.37 +/- 0.00\n",
      "Episode length: 78.00 +/- 0.00\n",
      "Eval num_timesteps=40000, episode_reward=0.37 +/- 0.00\n",
      "Episode length: 78.00 +/- 0.00\n",
      "Eval num_timesteps=41000, episode_reward=-0.61 +/- 0.03\n",
      "Episode length: 78.00 +/- 0.00\n",
      "Eval num_timesteps=42000, episode_reward=-0.58 +/- 0.02\n",
      "Episode length: 78.00 +/- 0.00\n",
      "Eval num_timesteps=43000, episode_reward=-0.57 +/- 0.00\n",
      "Episode length: 78.00 +/- 0.00\n",
      "Eval num_timesteps=44000, episode_reward=0.30 +/- 0.01\n",
      "Episode length: 78.00 +/- 0.00\n",
      "Eval num_timesteps=45000, episode_reward=0.30 +/- 0.01\n",
      "Episode length: 78.00 +/- 0.00\n",
      "Eval num_timesteps=46000, episode_reward=0.30 +/- 0.00\n",
      "Episode length: 78.00 +/- 0.00\n",
      "Eval num_timesteps=47000, episode_reward=0.31 +/- 0.00\n",
      "Episode length: 78.00 +/- 0.00\n",
      "Eval num_timesteps=48000, episode_reward=0.18 +/- 0.01\n",
      "Episode length: 78.00 +/- 0.00\n",
      "Eval num_timesteps=49000, episode_reward=0.19 +/- 0.01\n",
      "Episode length: 78.00 +/- 0.00\n",
      "Eval num_timesteps=50000, episode_reward=-0.45 +/- 0.01\n",
      "Episode length: 78.00 +/- 0.00\n",
      "Eval num_timesteps=51000, episode_reward=-0.45 +/- 0.01\n",
      "Episode length: 78.00 +/- 0.00\n",
      "Eval num_timesteps=52000, episode_reward=0.46 +/- 0.00\n",
      "Episode length: 78.00 +/- 0.00\n",
      "Eval num_timesteps=53000, episode_reward=0.46 +/- 0.00\n",
      "Episode length: 78.00 +/- 0.00\n",
      "Eval num_timesteps=54000, episode_reward=-0.01 +/- 0.00\n",
      "Episode length: 78.00 +/- 0.00\n",
      "Eval num_timesteps=55000, episode_reward=-0.00 +/- 0.00\n",
      "Episode length: 78.00 +/- 0.00\n",
      "Eval num_timesteps=56000, episode_reward=-0.47 +/- 0.00\n",
      "Episode length: 78.00 +/- 0.00\n",
      "Eval num_timesteps=57000, episode_reward=-0.46 +/- 0.01\n",
      "Episode length: 78.00 +/- 0.00\n",
      "Eval num_timesteps=58000, episode_reward=0.20 +/- 0.00\n",
      "Episode length: 78.00 +/- 0.00\n",
      "Eval num_timesteps=59000, episode_reward=0.21 +/- 0.00\n",
      "Episode length: 78.00 +/- 0.00\n",
      "Eval num_timesteps=60000, episode_reward=0.30 +/- 0.00\n",
      "Episode length: 78.00 +/- 0.00\n",
      "Eval num_timesteps=61000, episode_reward=0.30 +/- 0.00\n",
      "Episode length: 78.00 +/- 0.00\n",
      "Eval num_timesteps=62000, episode_reward=0.25 +/- 0.00\n",
      "Episode length: 78.00 +/- 0.00\n",
      "Eval num_timesteps=63000, episode_reward=0.25 +/- 0.00\n",
      "Episode length: 78.00 +/- 0.00\n",
      "Eval num_timesteps=64000, episode_reward=0.18 +/- 0.00\n",
      "Episode length: 78.00 +/- 0.00\n",
      "Eval num_timesteps=65000, episode_reward=0.19 +/- 0.00\n",
      "Episode length: 78.00 +/- 0.00\n",
      "Eval num_timesteps=66000, episode_reward=0.21 +/- 0.00\n",
      "Episode length: 78.00 +/- 0.00\n",
      "Eval num_timesteps=67000, episode_reward=0.21 +/- 0.00\n",
      "Episode length: 78.00 +/- 0.00\n",
      "Eval num_timesteps=68000, episode_reward=1.13 +/- 0.01\n",
      "Episode length: 78.00 +/- 0.00\n",
      "Eval num_timesteps=69000, episode_reward=1.13 +/- 0.00\n",
      "Episode length: 78.00 +/- 0.00\n",
      "Eval num_timesteps=70000, episode_reward=0.51 +/- 0.00\n",
      "Episode length: 78.00 +/- 0.00\n",
      "Eval num_timesteps=71000, episode_reward=0.51 +/- 0.00\n",
      "Episode length: 78.00 +/- 0.00\n",
      "Eval num_timesteps=72000, episode_reward=-0.06 +/- 0.00\n",
      "Episode length: 78.00 +/- 0.00\n",
      "Eval num_timesteps=73000, episode_reward=-0.06 +/- 0.00\n",
      "Episode length: 78.00 +/- 0.00\n",
      "Eval num_timesteps=74000, episode_reward=-2.09 +/- 0.01\n",
      "Episode length: 78.00 +/- 0.00\n",
      "Eval num_timesteps=75000, episode_reward=-2.08 +/- 0.00\n",
      "Episode length: 78.00 +/- 0.00\n",
      "Eval num_timesteps=76000, episode_reward=-0.04 +/- 0.00\n",
      "Episode length: 78.00 +/- 0.00\n",
      "Eval num_timesteps=77000, episode_reward=-0.04 +/- 0.00\n",
      "Episode length: 78.00 +/- 0.00\n",
      "Eval num_timesteps=78000, episode_reward=1.37 +/- 0.01\n",
      "Episode length: 78.00 +/- 0.00\n",
      "New best mean reward!\n",
      "Eval num_timesteps=79000, episode_reward=1.38 +/- 0.01\n",
      "Episode length: 78.00 +/- 0.00\n",
      "New best mean reward!\n",
      "Eval num_timesteps=80000, episode_reward=-2.13 +/- 0.02\n",
      "Episode length: 78.00 +/- 0.00\n",
      "Eval num_timesteps=81000, episode_reward=-0.33 +/- 1.45\n",
      "Episode length: 78.00 +/- 0.00\n",
      "Eval num_timesteps=82000, episode_reward=1.01 +/- 0.01\n",
      "Episode length: 78.00 +/- 0.00\n",
      "Eval num_timesteps=83000, episode_reward=1.02 +/- 0.01\n",
      "Episode length: 78.00 +/- 0.00\n",
      "Eval num_timesteps=84000, episode_reward=0.70 +/- 0.00\n",
      "Episode length: 78.00 +/- 0.00\n",
      "Eval num_timesteps=85000, episode_reward=0.70 +/- 0.01\n",
      "Episode length: 78.00 +/- 0.00\n",
      "Eval num_timesteps=86000, episode_reward=0.69 +/- 0.01\n",
      "Episode length: 78.00 +/- 0.00\n",
      "Eval num_timesteps=87000, episode_reward=1.14 +/- 0.01\n",
      "Episode length: 78.00 +/- 0.00\n",
      "Eval num_timesteps=88000, episode_reward=1.13 +/- 0.01\n",
      "Episode length: 78.00 +/- 0.00\n",
      "Eval num_timesteps=89000, episode_reward=0.33 +/- 0.01\n",
      "Episode length: 78.00 +/- 0.00\n",
      "Eval num_timesteps=90000, episode_reward=0.32 +/- 0.02\n",
      "Episode length: 78.00 +/- 0.00\n",
      "Eval num_timesteps=91000, episode_reward=-2.09 +/- 0.01\n",
      "Episode length: 78.00 +/- 0.00\n",
      "Eval num_timesteps=92000, episode_reward=-2.09 +/- 0.01\n",
      "Episode length: 78.00 +/- 0.00\n",
      "Eval num_timesteps=93000, episode_reward=0.36 +/- 0.01\n",
      "Episode length: 78.00 +/- 0.00\n",
      "Eval num_timesteps=94000, episode_reward=0.36 +/- 0.01\n",
      "Episode length: 78.00 +/- 0.00\n",
      "Eval num_timesteps=95000, episode_reward=0.11 +/- 0.00\n",
      "Episode length: 78.00 +/- 0.00\n",
      "Eval num_timesteps=96000, episode_reward=0.11 +/- 0.00\n",
      "Episode length: 78.00 +/- 0.00\n",
      "Eval num_timesteps=97000, episode_reward=0.85 +/- 0.01\n",
      "Episode length: 78.00 +/- 0.00\n",
      "Eval num_timesteps=98000, episode_reward=0.85 +/- 0.00\n",
      "Episode length: 78.00 +/- 0.00\n",
      "Eval num_timesteps=99000, episode_reward=2.96 +/- 0.03\n",
      "Episode length: 78.00 +/- 0.00\n",
      "New best mean reward!\n",
      "Eval num_timesteps=100000, episode_reward=2.95 +/- 0.04\n",
      "Episode length: 78.00 +/- 0.00\n",
      "Eval num_timesteps=101000, episode_reward=-2.00 +/- 0.08\n",
      "Episode length: 78.00 +/- 0.00\n",
      "Eval num_timesteps=102000, episode_reward=-2.04 +/- 0.02\n",
      "Episode length: 78.00 +/- 0.00\n",
      "Eval num_timesteps=103000, episode_reward=0.47 +/- 0.01\n",
      "Episode length: 78.00 +/- 0.00\n",
      "Eval num_timesteps=104000, episode_reward=0.47 +/- 0.00\n",
      "Episode length: 78.00 +/- 0.00\n",
      "Eval num_timesteps=105000, episode_reward=0.19 +/- 0.00\n",
      "Episode length: 78.00 +/- 0.00\n",
      "Eval num_timesteps=106000, episode_reward=0.19 +/- 0.00\n",
      "Episode length: 78.00 +/- 0.00\n",
      "Eval num_timesteps=107000, episode_reward=-0.07 +/- 0.00\n",
      "Episode length: 78.00 +/- 0.00\n",
      "Eval num_timesteps=108000, episode_reward=-0.07 +/- 0.00\n",
      "Episode length: 78.00 +/- 0.00\n",
      "Eval num_timesteps=109000, episode_reward=0.33 +/- 0.00\n",
      "Episode length: 78.00 +/- 0.00\n",
      "Eval num_timesteps=110000, episode_reward=0.33 +/- 0.00\n",
      "Episode length: 78.00 +/- 0.00\n",
      "Eval num_timesteps=111000, episode_reward=3.02 +/- 1.05\n",
      "Episode length: 78.00 +/- 0.00\n",
      "New best mean reward!\n",
      "Eval num_timesteps=112000, episode_reward=3.16 +/- 1.08\n",
      "Episode length: 78.00 +/- 0.00\n",
      "New best mean reward!\n",
      "Eval num_timesteps=113000, episode_reward=-1.94 +/- 0.10\n",
      "Episode length: 78.00 +/- 0.00\n",
      "Eval num_timesteps=114000, episode_reward=-1.97 +/- 0.12\n",
      "Episode length: 78.00 +/- 0.00\n",
      "Eval num_timesteps=115000, episode_reward=-1.98 +/- 0.01\n",
      "Episode length: 78.00 +/- 0.00\n",
      "Eval num_timesteps=116000, episode_reward=-1.98 +/- 0.01\n",
      "Episode length: 78.00 +/- 0.00\n",
      "Eval num_timesteps=117000, episode_reward=0.92 +/- 0.01\n",
      "Episode length: 78.00 +/- 0.00\n",
      "Eval num_timesteps=118000, episode_reward=0.92 +/- 0.01\n",
      "Episode length: 78.00 +/- 0.00\n",
      "Eval num_timesteps=119000, episode_reward=-2.04 +/- 0.01\n",
      "Episode length: 78.00 +/- 0.00\n",
      "Eval num_timesteps=120000, episode_reward=-1.97 +/- 0.13\n",
      "Episode length: 78.00 +/- 0.00\n",
      "Eval num_timesteps=121000, episode_reward=-1.83 +/- 0.01\n",
      "Episode length: 78.00 +/- 0.00\n",
      "Eval num_timesteps=122000, episode_reward=-1.84 +/- 0.00\n",
      "Episode length: 78.00 +/- 0.00\n",
      "Eval num_timesteps=123000, episode_reward=-1.86 +/- 0.01\n",
      "Episode length: 78.00 +/- 0.00\n",
      "Eval num_timesteps=124000, episode_reward=-1.86 +/- 0.01\n",
      "Episode length: 78.00 +/- 0.00\n",
      "Eval num_timesteps=125000, episode_reward=-1.89 +/- 0.01\n",
      "Episode length: 78.00 +/- 0.00\n",
      "Eval num_timesteps=126000, episode_reward=-1.88 +/- 0.01\n",
      "Episode length: 78.00 +/- 0.00\n",
      "Eval num_timesteps=127000, episode_reward=-0.22 +/- 0.01\n",
      "Episode length: 78.00 +/- 0.00\n",
      "Eval num_timesteps=128000, episode_reward=-0.22 +/- 0.01\n",
      "Episode length: 78.00 +/- 0.00\n",
      "Eval num_timesteps=129000, episode_reward=-0.23 +/- 0.01\n",
      "Episode length: 78.00 +/- 0.00\n",
      "Eval num_timesteps=130000, episode_reward=-1.71 +/- 0.03\n",
      "Episode length: 78.00 +/- 0.00\n",
      "Eval num_timesteps=131000, episode_reward=-1.67 +/- 0.00\n",
      "Episode length: 78.00 +/- 0.00\n",
      "Eval num_timesteps=132000, episode_reward=-1.82 +/- 0.13\n",
      "Episode length: 78.00 +/- 0.00\n",
      "Eval num_timesteps=133000, episode_reward=-1.66 +/- 0.00\n",
      "Episode length: 78.00 +/- 0.00\n",
      "Eval num_timesteps=134000, episode_reward=-1.63 +/- 0.00\n",
      "Episode length: 78.00 +/- 0.00\n",
      "Eval num_timesteps=135000, episode_reward=-1.64 +/- 0.01\n",
      "Episode length: 78.00 +/- 0.00\n",
      "Eval num_timesteps=136000, episode_reward=-1.93 +/- 0.00\n",
      "Episode length: 78.00 +/- 0.00\n",
      "Eval num_timesteps=137000, episode_reward=-1.91 +/- 0.01\n",
      "Episode length: 78.00 +/- 0.00\n",
      "Eval num_timesteps=138000, episode_reward=-1.90 +/- 0.04\n",
      "Episode length: 78.00 +/- 0.00\n",
      "Eval num_timesteps=139000, episode_reward=-1.90 +/- 0.04\n",
      "Episode length: 78.00 +/- 0.00\n",
      "Eval num_timesteps=140000, episode_reward=2.23 +/- 1.84\n",
      "Episode length: 78.00 +/- 0.00\n",
      "Eval num_timesteps=141000, episode_reward=3.35 +/- 0.44\n",
      "Episode length: 78.00 +/- 0.00\n",
      "New best mean reward!\n",
      "Eval num_timesteps=142000, episode_reward=4.48 +/- 0.28\n",
      "Episode length: 78.00 +/- 0.00\n",
      "New best mean reward!\n",
      "Eval num_timesteps=143000, episode_reward=4.73 +/- 0.31\n",
      "Episode length: 78.00 +/- 0.00\n",
      "New best mean reward!\n",
      "Eval num_timesteps=144000, episode_reward=4.76 +/- 3.47\n",
      "Episode length: 78.00 +/- 0.00\n",
      "New best mean reward!\n",
      "Eval num_timesteps=145000, episode_reward=0.68 +/- 3.16\n",
      "Episode length: 78.00 +/- 0.00\n",
      "Eval num_timesteps=146000, episode_reward=-0.70 +/- 1.86\n",
      "Episode length: 78.00 +/- 0.00\n",
      "Eval num_timesteps=147000, episode_reward=2.99 +/- 0.02\n",
      "Episode length: 78.00 +/- 0.00\n",
      "Eval num_timesteps=148000, episode_reward=4.66 +/- 0.04\n",
      "Episode length: 78.00 +/- 0.00\n",
      "Eval num_timesteps=149000, episode_reward=6.15 +/- 0.70\n",
      "Episode length: 78.00 +/- 0.00\n",
      "New best mean reward!\n",
      "Eval num_timesteps=150000, episode_reward=5.44 +/- 0.19\n",
      "Episode length: 78.00 +/- 0.00\n",
      "Eval num_timesteps=151000, episode_reward=5.25 +/- 0.11\n",
      "Episode length: 78.00 +/- 0.00\n",
      "Eval num_timesteps=152000, episode_reward=7.49 +/- 0.81\n",
      "Episode length: 78.00 +/- 0.00\n",
      "New best mean reward!\n",
      "Eval num_timesteps=153000, episode_reward=7.47 +/- 0.54\n",
      "Episode length: 78.00 +/- 0.00\n",
      "Eval num_timesteps=154000, episode_reward=3.46 +/- 0.03\n",
      "Episode length: 78.00 +/- 0.00\n",
      "Eval num_timesteps=155000, episode_reward=3.39 +/- 0.17\n",
      "Episode length: 78.00 +/- 0.00\n",
      "Eval num_timesteps=156000, episode_reward=-1.79 +/- 0.00\n",
      "Episode length: 78.00 +/- 0.00\n",
      "Eval num_timesteps=157000, episode_reward=-1.78 +/- 0.00\n",
      "Episode length: 78.00 +/- 0.00\n",
      "Eval num_timesteps=158000, episode_reward=-1.52 +/- 0.01\n",
      "Episode length: 78.00 +/- 0.00\n",
      "Eval num_timesteps=159000, episode_reward=-1.52 +/- 0.01\n",
      "Episode length: 78.00 +/- 0.00\n",
      "Eval num_timesteps=160000, episode_reward=4.18 +/- 0.69\n",
      "Episode length: 78.00 +/- 0.00\n",
      "Eval num_timesteps=161000, episode_reward=3.64 +/- 0.09\n",
      "Episode length: 78.00 +/- 0.00\n",
      "Eval num_timesteps=162000, episode_reward=4.03 +/- 0.73\n",
      "Episode length: 78.00 +/- 0.00\n",
      "Eval num_timesteps=163000, episode_reward=1.63 +/- 2.50\n",
      "Episode length: 78.00 +/- 0.00\n",
      "Eval num_timesteps=164000, episode_reward=4.62 +/- 0.04\n",
      "Episode length: 78.00 +/- 0.00\n",
      "Eval num_timesteps=165000, episode_reward=4.66 +/- 0.05\n",
      "Episode length: 78.00 +/- 0.00\n",
      "Eval num_timesteps=166000, episode_reward=4.31 +/- 3.03\n",
      "Episode length: 78.00 +/- 0.00\n",
      "Eval num_timesteps=167000, episode_reward=4.27 +/- 3.02\n",
      "Episode length: 78.00 +/- 0.00\n",
      "Eval num_timesteps=168000, episode_reward=-1.56 +/- 0.00\n",
      "Episode length: 78.00 +/- 0.00\n",
      "Eval num_timesteps=169000, episode_reward=-1.56 +/- 0.00\n",
      "Episode length: 78.00 +/- 0.00\n",
      "Eval num_timesteps=170000, episode_reward=7.65 +/- 0.03\n",
      "Episode length: 78.00 +/- 0.00\n",
      "New best mean reward!\n",
      "Eval num_timesteps=171000, episode_reward=7.43 +/- 0.06\n",
      "Episode length: 78.00 +/- 0.00\n",
      "Eval num_timesteps=172000, episode_reward=7.33 +/- 0.04\n",
      "Episode length: 78.00 +/- 0.00\n",
      "Eval num_timesteps=173000, episode_reward=6.89 +/- 0.45\n",
      "Episode length: 78.00 +/- 0.00\n",
      "Eval num_timesteps=174000, episode_reward=6.93 +/- 0.62\n",
      "Episode length: 78.00 +/- 0.00\n",
      "Eval num_timesteps=175000, episode_reward=-1.32 +/- 0.01\n",
      "Episode length: 78.00 +/- 0.00\n",
      "Eval num_timesteps=176000, episode_reward=-1.32 +/- 0.01\n",
      "Episode length: 78.00 +/- 0.00\n",
      "Eval num_timesteps=177000, episode_reward=6.61 +/- 0.03\n",
      "Episode length: 78.00 +/- 0.00\n",
      "Eval num_timesteps=178000, episode_reward=6.59 +/- 0.03\n",
      "Episode length: 78.00 +/- 0.00\n",
      "Eval num_timesteps=179000, episode_reward=6.62 +/- 0.03\n",
      "Episode length: 78.00 +/- 0.00\n",
      "Eval num_timesteps=180000, episode_reward=6.58 +/- 0.09\n",
      "Episode length: 78.00 +/- 0.00\n",
      "Eval num_timesteps=181000, episode_reward=4.81 +/- 3.15\n",
      "Episode length: 78.00 +/- 0.00\n",
      "Eval num_timesteps=182000, episode_reward=6.36 +/- 0.07\n",
      "Episode length: 78.00 +/- 0.00\n",
      "Eval num_timesteps=183000, episode_reward=4.30 +/- 2.70\n",
      "Episode length: 78.00 +/- 0.00\n",
      "Eval num_timesteps=184000, episode_reward=3.37 +/- 3.47\n",
      "Episode length: 78.00 +/- 0.00\n",
      "Eval num_timesteps=185000, episode_reward=3.23 +/- 3.48\n",
      "Episode length: 78.00 +/- 0.00\n",
      "Eval num_timesteps=186000, episode_reward=4.60 +/- 2.84\n",
      "Episode length: 78.00 +/- 0.00\n",
      "Eval num_timesteps=187000, episode_reward=2.38 +/- 0.02\n",
      "Episode length: 78.00 +/- 0.00\n",
      "Eval num_timesteps=188000, episode_reward=8.01 +/- 1.17\n",
      "Episode length: 78.00 +/- 0.00\n",
      "New best mean reward!\n",
      "Eval num_timesteps=189000, episode_reward=6.97 +/- 0.02\n",
      "Episode length: 78.00 +/- 0.00\n",
      "Eval num_timesteps=190000, episode_reward=6.90 +/- 0.02\n",
      "Episode length: 78.00 +/- 0.00\n",
      "Eval num_timesteps=191000, episode_reward=5.33 +/- 0.03\n",
      "Episode length: 78.00 +/- 0.00\n",
      "Eval num_timesteps=192000, episode_reward=5.32 +/- 0.02\n",
      "Episode length: 78.00 +/- 0.00\n",
      "Eval num_timesteps=193000, episode_reward=3.11 +/- 0.33\n",
      "Episode length: 78.00 +/- 0.00\n",
      "Eval num_timesteps=194000, episode_reward=2.85 +/- 0.02\n",
      "Episode length: 78.00 +/- 0.00\n",
      "Eval num_timesteps=195000, episode_reward=6.50 +/- 0.06\n",
      "Episode length: 78.00 +/- 0.00\n",
      "Eval num_timesteps=196000, episode_reward=6.45 +/- 0.02\n",
      "Episode length: 78.00 +/- 0.00\n",
      "Eval num_timesteps=197000, episode_reward=-0.95 +/- 0.00\n",
      "Episode length: 78.00 +/- 0.00\n",
      "Eval num_timesteps=198000, episode_reward=-0.95 +/- 0.00\n",
      "Episode length: 78.00 +/- 0.00\n",
      "Eval num_timesteps=199000, episode_reward=-1.10 +/- 0.00\n",
      "Episode length: 78.00 +/- 0.00\n",
      "Eval num_timesteps=200000, episode_reward=-1.10 +/- 0.02\n",
      "Episode length: 78.00 +/- 0.00\n",
      "Eval num_timesteps=201000, episode_reward=-0.05 +/- 0.00\n",
      "Episode length: 78.00 +/- 0.00\n",
      "Eval num_timesteps=202000, episode_reward=-0.05 +/- 0.00\n",
      "Episode length: 78.00 +/- 0.00\n",
      "Eval num_timesteps=203000, episode_reward=5.49 +/- 0.01\n",
      "Episode length: 78.00 +/- 0.00\n",
      "Eval num_timesteps=204000, episode_reward=5.47 +/- 0.02\n",
      "Episode length: 78.00 +/- 0.00\n",
      "Eval num_timesteps=205000, episode_reward=7.40 +/- 0.03\n",
      "Episode length: 78.00 +/- 0.00\n",
      "Eval num_timesteps=206000, episode_reward=7.34 +/- 0.05\n",
      "Episode length: 78.00 +/- 0.00\n",
      "Eval num_timesteps=207000, episode_reward=6.10 +/- 0.04\n",
      "Episode length: 78.00 +/- 0.00\n",
      "Eval num_timesteps=208000, episode_reward=6.00 +/- 0.04\n",
      "Episode length: 78.00 +/- 0.00\n",
      "Eval num_timesteps=209000, episode_reward=-1.04 +/- 0.01\n",
      "Episode length: 78.00 +/- 0.00\n",
      "Eval num_timesteps=210000, episode_reward=-1.03 +/- 0.00\n",
      "Episode length: 78.00 +/- 0.00\n",
      "Eval num_timesteps=211000, episode_reward=-1.10 +/- 0.00\n",
      "Episode length: 78.00 +/- 0.00\n",
      "Eval num_timesteps=212000, episode_reward=-1.10 +/- 0.01\n",
      "Episode length: 78.00 +/- 0.00\n",
      "Eval num_timesteps=213000, episode_reward=5.08 +/- 1.07\n",
      "Episode length: 78.00 +/- 0.00\n",
      "Eval num_timesteps=214000, episode_reward=5.94 +/- 0.07\n",
      "Episode length: 78.00 +/- 0.00\n",
      "Eval num_timesteps=215000, episode_reward=5.48 +/- 0.89\n",
      "Episode length: 78.00 +/- 0.00\n",
      "Eval num_timesteps=216000, episode_reward=2.01 +/- 0.01\n",
      "Episode length: 78.00 +/- 0.00\n",
      "Eval num_timesteps=217000, episode_reward=4.22 +/- 1.80\n",
      "Episode length: 78.00 +/- 0.00\n",
      "Eval num_timesteps=218000, episode_reward=2.85 +/- 0.03\n",
      "Episode length: 78.00 +/- 0.00\n",
      "Eval num_timesteps=219000, episode_reward=2.77 +/- 0.02\n",
      "Episode length: 78.00 +/- 0.00\n",
      "Eval num_timesteps=220000, episode_reward=8.17 +/- 0.09\n",
      "Episode length: 78.00 +/- 0.00\n",
      "New best mean reward!\n",
      "Eval num_timesteps=221000, episode_reward=8.13 +/- 0.07\n",
      "Episode length: 78.00 +/- 0.00\n",
      "Eval num_timesteps=222000, episode_reward=7.87 +/- 0.07\n",
      "Episode length: 78.00 +/- 0.00\n",
      "Eval num_timesteps=223000, episode_reward=7.78 +/- 0.05\n",
      "Episode length: 78.00 +/- 0.00\n",
      "Eval num_timesteps=224000, episode_reward=2.78 +/- 4.12\n",
      "Episode length: 78.00 +/- 0.00\n",
      "Eval num_timesteps=225000, episode_reward=7.70 +/- 0.01\n",
      "Episode length: 78.00 +/- 0.00\n",
      "Eval num_timesteps=226000, episode_reward=2.11 +/- 0.16\n",
      "Episode length: 78.00 +/- 0.00\n",
      "Eval num_timesteps=227000, episode_reward=2.22 +/- 0.04\n",
      "Episode length: 78.00 +/- 0.00\n",
      "Eval num_timesteps=228000, episode_reward=-0.95 +/- 0.03\n",
      "Episode length: 78.00 +/- 0.00\n",
      "Eval num_timesteps=229000, episode_reward=-0.94 +/- 0.03\n",
      "Episode length: 78.00 +/- 0.00\n",
      "Eval num_timesteps=230000, episode_reward=1.85 +/- 1.42\n",
      "Episode length: 78.00 +/- 0.00\n",
      "Eval num_timesteps=231000, episode_reward=0.76 +/- 0.08\n",
      "Episode length: 78.00 +/- 0.00\n",
      "Eval num_timesteps=232000, episode_reward=4.76 +/- 0.62\n",
      "Episode length: 78.00 +/- 0.00\n",
      "Eval num_timesteps=233000, episode_reward=4.17 +/- 0.50\n",
      "Episode length: 78.00 +/- 0.00\n",
      "Eval num_timesteps=234000, episode_reward=7.00 +/- 0.08\n",
      "Episode length: 78.00 +/- 0.00\n",
      "Eval num_timesteps=235000, episode_reward=6.91 +/- 0.03\n",
      "Episode length: 78.00 +/- 0.00\n",
      "Eval num_timesteps=236000, episode_reward=-0.90 +/- 0.01\n",
      "Episode length: 78.00 +/- 0.00\n",
      "Eval num_timesteps=237000, episode_reward=-0.90 +/- 0.00\n",
      "Episode length: 78.00 +/- 0.00\n",
      "Eval num_timesteps=238000, episode_reward=5.23 +/- 0.02\n",
      "Episode length: 78.00 +/- 0.00\n",
      "Eval num_timesteps=239000, episode_reward=5.17 +/- 0.04\n",
      "Episode length: 78.00 +/- 0.00\n",
      "Eval num_timesteps=240000, episode_reward=5.88 +/- 0.63\n",
      "Episode length: 78.00 +/- 0.00\n",
      "Eval num_timesteps=241000, episode_reward=5.81 +/- 0.63\n",
      "Episode length: 78.00 +/- 0.00\n",
      "Eval num_timesteps=242000, episode_reward=5.82 +/- 0.05\n",
      "Episode length: 78.00 +/- 0.00\n",
      "Eval num_timesteps=243000, episode_reward=5.76 +/- 0.03\n",
      "Episode length: 78.00 +/- 0.00\n",
      "Eval num_timesteps=244000, episode_reward=-0.69 +/- 0.00\n",
      "Episode length: 78.00 +/- 0.00\n",
      "Eval num_timesteps=245000, episode_reward=-0.69 +/- 0.00\n",
      "Episode length: 78.00 +/- 0.00\n",
      "Eval num_timesteps=246000, episode_reward=7.72 +/- 0.05\n",
      "Episode length: 78.00 +/- 0.00\n",
      "Eval num_timesteps=247000, episode_reward=7.85 +/- 0.29\n",
      "Episode length: 78.00 +/- 0.00\n",
      "Eval num_timesteps=248000, episode_reward=-0.70 +/- 0.00\n",
      "Episode length: 78.00 +/- 0.00\n",
      "Eval num_timesteps=249000, episode_reward=-0.70 +/- 0.00\n",
      "Episode length: 78.00 +/- 0.00\n",
      "Eval num_timesteps=250000, episode_reward=9.68 +/- 1.89\n",
      "Episode length: 78.00 +/- 0.00\n",
      "New best mean reward!\n",
      "Eval num_timesteps=251000, episode_reward=11.18 +/- 1.60\n",
      "Episode length: 78.00 +/- 0.00\n",
      "New best mean reward!\n",
      "Eval num_timesteps=252000, episode_reward=5.98 +/- 3.28\n",
      "Episode length: 78.00 +/- 0.00\n",
      "Eval num_timesteps=253000, episode_reward=7.46 +/- 0.06\n",
      "Episode length: 78.00 +/- 0.00\n",
      "Eval num_timesteps=254000, episode_reward=10.44 +/- 1.60\n",
      "Episode length: 78.00 +/- 0.00\n",
      "Eval num_timesteps=255000, episode_reward=13.31 +/- 0.10\n",
      "Episode length: 78.00 +/- 0.00\n",
      "New best mean reward!\n",
      "Eval num_timesteps=256000, episode_reward=11.84 +/- 2.12\n",
      "Episode length: 78.00 +/- 0.00\n",
      "Eval num_timesteps=257000, episode_reward=12.72 +/- 0.47\n",
      "Episode length: 78.00 +/- 0.00\n",
      "Eval num_timesteps=258000, episode_reward=12.88 +/- 0.36\n",
      "Episode length: 78.00 +/- 0.00\n",
      "Eval num_timesteps=259000, episode_reward=11.53 +/- 0.05\n",
      "Episode length: 78.00 +/- 0.00\n",
      "Eval num_timesteps=260000, episode_reward=11.45 +/- 0.08\n",
      "Episode length: 78.00 +/- 0.00\n",
      "Eval num_timesteps=261000, episode_reward=7.94 +/- 4.69\n",
      "Episode length: 78.00 +/- 0.00\n",
      "Eval num_timesteps=262000, episode_reward=1.52 +/- 4.27\n",
      "Episode length: 78.00 +/- 0.00\n",
      "Eval num_timesteps=263000, episode_reward=8.02 +/- 0.94\n",
      "Episode length: 78.00 +/- 0.00\n",
      "Eval num_timesteps=264000, episode_reward=8.24 +/- 0.02\n",
      "Episode length: 78.00 +/- 0.00\n",
      "Eval num_timesteps=265000, episode_reward=14.30 +/- 0.05\n",
      "Episode length: 78.00 +/- 0.00\n",
      "New best mean reward!\n",
      "Eval num_timesteps=266000, episode_reward=12.97 +/- 1.70\n",
      "Episode length: 78.00 +/- 0.00\n",
      "Eval num_timesteps=267000, episode_reward=5.64 +/- 0.02\n",
      "Episode length: 78.00 +/- 0.00\n",
      "Eval num_timesteps=268000, episode_reward=5.55 +/- 0.03\n",
      "Episode length: 78.00 +/- 0.00\n",
      "Eval num_timesteps=269000, episode_reward=9.18 +/- 2.90\n",
      "Episode length: 78.00 +/- 0.00\n",
      "Eval num_timesteps=270000, episode_reward=11.91 +/- 3.50\n",
      "Episode length: 78.00 +/- 0.00\n",
      "Eval num_timesteps=271000, episode_reward=10.73 +/- 0.12\n",
      "Episode length: 78.00 +/- 0.00\n",
      "Eval num_timesteps=272000, episode_reward=10.46 +/- 0.16\n",
      "Episode length: 78.00 +/- 0.00\n",
      "Eval num_timesteps=273000, episode_reward=10.91 +/- 0.09\n",
      "Episode length: 78.00 +/- 0.00\n",
      "Eval num_timesteps=274000, episode_reward=10.71 +/- 0.08\n",
      "Episode length: 78.00 +/- 0.00\n",
      "Eval num_timesteps=275000, episode_reward=12.41 +/- 0.04\n",
      "Episode length: 78.00 +/- 0.00\n",
      "Eval num_timesteps=276000, episode_reward=12.17 +/- 0.02\n",
      "Episode length: 78.00 +/- 0.00\n",
      "Eval num_timesteps=277000, episode_reward=11.18 +/- 0.61\n",
      "Episode length: 78.00 +/- 0.00\n",
      "Eval num_timesteps=278000, episode_reward=9.76 +/- 1.74\n",
      "Episode length: 78.00 +/- 0.00\n",
      "Eval num_timesteps=279000, episode_reward=10.22 +/- 2.01\n",
      "Episode length: 78.00 +/- 0.00\n",
      "Eval num_timesteps=280000, episode_reward=11.75 +/- 0.09\n",
      "Episode length: 78.00 +/- 0.00\n",
      "Eval num_timesteps=281000, episode_reward=6.84 +/- 0.04\n",
      "Episode length: 78.00 +/- 0.00\n",
      "Eval num_timesteps=282000, episode_reward=6.83 +/- 0.03\n",
      "Episode length: 78.00 +/- 0.00\n",
      "Eval num_timesteps=283000, episode_reward=11.62 +/- 2.19\n",
      "Episode length: 78.00 +/- 0.00\n",
      "Eval num_timesteps=284000, episode_reward=9.62 +/- 0.13\n",
      "Episode length: 78.00 +/- 0.00\n",
      "Eval num_timesteps=285000, episode_reward=10.60 +/- 2.33\n",
      "Episode length: 78.00 +/- 0.00\n",
      "Eval num_timesteps=286000, episode_reward=9.78 +/- 0.37\n",
      "Episode length: 78.00 +/- 0.00\n",
      "Eval num_timesteps=287000, episode_reward=9.17 +/- 0.11\n",
      "Episode length: 78.00 +/- 0.00\n",
      "Eval num_timesteps=288000, episode_reward=9.24 +/- 0.03\n",
      "Episode length: 78.00 +/- 0.00\n",
      "Eval num_timesteps=289000, episode_reward=15.11 +/- 0.23\n",
      "Episode length: 78.00 +/- 0.00\n",
      "New best mean reward!\n",
      "Eval num_timesteps=290000, episode_reward=14.68 +/- 0.08\n",
      "Episode length: 78.00 +/- 0.00\n",
      "Eval num_timesteps=291000, episode_reward=13.55 +/- 0.34\n",
      "Episode length: 78.00 +/- 0.00\n",
      "Eval num_timesteps=292000, episode_reward=14.01 +/- 0.58\n",
      "Episode length: 78.00 +/- 0.00\n",
      "Eval num_timesteps=293000, episode_reward=15.39 +/- 0.95\n",
      "Episode length: 78.00 +/- 0.00\n",
      "New best mean reward!\n",
      "Eval num_timesteps=294000, episode_reward=15.02 +/- 0.60\n",
      "Episode length: 78.00 +/- 0.00\n",
      "Eval num_timesteps=295000, episode_reward=12.73 +/- 1.05\n",
      "Episode length: 78.00 +/- 0.00\n",
      "Eval num_timesteps=296000, episode_reward=13.13 +/- 0.39\n",
      "Episode length: 78.00 +/- 0.00\n",
      "Eval num_timesteps=297000, episode_reward=14.25 +/- 0.29\n",
      "Episode length: 78.00 +/- 0.00\n",
      "Eval num_timesteps=298000, episode_reward=12.80 +/- 1.21\n",
      "Episode length: 78.00 +/- 0.00\n",
      "Eval num_timesteps=299000, episode_reward=12.64 +/- 0.88\n",
      "Episode length: 78.00 +/- 0.00\n",
      "Eval num_timesteps=300000, episode_reward=8.89 +/- 0.03\n",
      "Episode length: 78.00 +/- 0.00\n",
      "Eval num_timesteps=301000, episode_reward=9.33 +/- 1.11\n",
      "Episode length: 78.00 +/- 0.00\n",
      "Eval num_timesteps=302000, episode_reward=8.31 +/- 0.03\n",
      "Episode length: 78.00 +/- 0.00\n",
      "Eval num_timesteps=303000, episode_reward=8.17 +/- 0.02\n",
      "Episode length: 78.00 +/- 0.00\n",
      "Eval num_timesteps=304000, episode_reward=4.09 +/- 0.01\n",
      "Episode length: 78.00 +/- 0.00\n",
      "Eval num_timesteps=305000, episode_reward=4.06 +/- 0.01\n",
      "Episode length: 78.00 +/- 0.00\n",
      "Eval num_timesteps=306000, episode_reward=13.49 +/- 0.17\n",
      "Episode length: 78.00 +/- 0.00\n",
      "Eval num_timesteps=307000, episode_reward=13.27 +/- 0.04\n",
      "Episode length: 78.00 +/- 0.00\n",
      "Eval num_timesteps=308000, episode_reward=13.77 +/- 0.58\n",
      "Episode length: 78.00 +/- 0.00\n",
      "Eval num_timesteps=309000, episode_reward=12.99 +/- 0.21\n",
      "Episode length: 78.00 +/- 0.00\n",
      "Eval num_timesteps=310000, episode_reward=11.01 +/- 1.30\n",
      "Episode length: 78.00 +/- 0.00\n",
      "Eval num_timesteps=311000, episode_reward=10.48 +/- 0.86\n",
      "Episode length: 78.00 +/- 0.00\n",
      "Eval num_timesteps=312000, episode_reward=12.83 +/- 0.06\n",
      "Episode length: 78.00 +/- 0.00\n",
      "Eval num_timesteps=313000, episode_reward=12.76 +/- 0.09\n",
      "Episode length: 78.00 +/- 0.00\n",
      "Eval num_timesteps=314000, episode_reward=13.19 +/- 0.05\n",
      "Episode length: 78.00 +/- 0.00\n",
      "Eval num_timesteps=315000, episode_reward=13.02 +/- 0.03\n",
      "Episode length: 78.00 +/- 0.00\n",
      "Eval num_timesteps=316000, episode_reward=11.22 +/- 0.10\n",
      "Episode length: 78.00 +/- 0.00\n",
      "Eval num_timesteps=317000, episode_reward=11.43 +/- 0.91\n",
      "Episode length: 78.00 +/- 0.00\n",
      "Eval num_timesteps=318000, episode_reward=12.04 +/- 0.14\n",
      "Episode length: 78.00 +/- 0.00\n",
      "Eval num_timesteps=319000, episode_reward=11.84 +/- 0.10\n",
      "Episode length: 78.00 +/- 0.00\n",
      "Eval num_timesteps=320000, episode_reward=12.40 +/- 0.31\n",
      "Episode length: 78.00 +/- 0.00\n",
      "Eval num_timesteps=321000, episode_reward=12.43 +/- 0.27\n",
      "Episode length: 78.00 +/- 0.00\n",
      "Eval num_timesteps=322000, episode_reward=12.64 +/- 0.37\n",
      "Episode length: 78.00 +/- 0.00\n",
      "Eval num_timesteps=323000, episode_reward=12.43 +/- 0.34\n",
      "Episode length: 78.00 +/- 0.00\n",
      "Eval num_timesteps=324000, episode_reward=12.73 +/- 0.04\n",
      "Episode length: 78.00 +/- 0.00\n",
      "Eval num_timesteps=325000, episode_reward=12.55 +/- 0.04\n",
      "Episode length: 78.00 +/- 0.00\n",
      "Eval num_timesteps=326000, episode_reward=13.19 +/- 0.21\n",
      "Episode length: 78.00 +/- 0.00\n",
      "Eval num_timesteps=327000, episode_reward=12.95 +/- 0.17\n",
      "Episode length: 78.00 +/- 0.00\n",
      "Eval num_timesteps=328000, episode_reward=12.91 +/- 0.37\n",
      "Episode length: 78.00 +/- 0.00\n",
      "Eval num_timesteps=329000, episode_reward=12.30 +/- 0.24\n",
      "Episode length: 78.00 +/- 0.00\n",
      "Eval num_timesteps=330000, episode_reward=11.86 +/- 0.20\n",
      "Episode length: 78.00 +/- 0.00\n",
      "Eval num_timesteps=331000, episode_reward=11.70 +/- 0.19\n",
      "Episode length: 78.00 +/- 0.00\n",
      "Eval num_timesteps=332000, episode_reward=11.84 +/- 0.03\n",
      "Episode length: 78.00 +/- 0.00\n",
      "Eval num_timesteps=333000, episode_reward=11.68 +/- 0.05\n",
      "Episode length: 78.00 +/- 0.00\n",
      "Eval num_timesteps=334000, episode_reward=11.96 +/- 0.07\n",
      "Episode length: 78.00 +/- 0.00\n",
      "Eval num_timesteps=335000, episode_reward=11.79 +/- 0.05\n",
      "Episode length: 78.00 +/- 0.00\n",
      "Eval num_timesteps=336000, episode_reward=11.46 +/- 0.32\n",
      "Episode length: 78.00 +/- 0.00\n",
      "Eval num_timesteps=337000, episode_reward=11.58 +/- 0.03\n",
      "Episode length: 78.00 +/- 0.00\n",
      "Eval num_timesteps=338000, episode_reward=11.74 +/- 0.12\n",
      "Episode length: 78.00 +/- 0.00\n",
      "Eval num_timesteps=339000, episode_reward=11.65 +/- 0.03\n",
      "Episode length: 78.00 +/- 0.00\n",
      "Eval num_timesteps=340000, episode_reward=11.96 +/- 0.27\n",
      "Episode length: 78.00 +/- 0.00\n",
      "Eval num_timesteps=341000, episode_reward=11.63 +/- 0.03\n",
      "Episode length: 78.00 +/- 0.00\n",
      "Eval num_timesteps=342000, episode_reward=11.48 +/- 0.04\n",
      "Episode length: 78.00 +/- 0.00\n",
      "Eval num_timesteps=343000, episode_reward=10.94 +/- 0.04\n",
      "Episode length: 78.00 +/- 0.00\n",
      "Eval num_timesteps=344000, episode_reward=10.83 +/- 0.01\n",
      "Episode length: 78.00 +/- 0.00\n",
      "Eval num_timesteps=345000, episode_reward=10.77 +/- 0.19\n",
      "Episode length: 78.00 +/- 0.00\n",
      "Eval num_timesteps=346000, episode_reward=10.68 +/- 0.17\n",
      "Episode length: 78.00 +/- 0.00\n",
      "Eval num_timesteps=347000, episode_reward=10.92 +/- 0.27\n",
      "Episode length: 78.00 +/- 0.00\n",
      "Eval num_timesteps=348000, episode_reward=10.81 +/- 0.24\n",
      "Episode length: 78.00 +/- 0.00\n",
      "Eval num_timesteps=349000, episode_reward=9.71 +/- 0.03\n",
      "Episode length: 78.00 +/- 0.00\n",
      "Eval num_timesteps=350000, episode_reward=9.80 +/- 0.44\n",
      "Episode length: 78.00 +/- 0.00\n",
      "Eval num_timesteps=351000, episode_reward=10.59 +/- 0.02\n",
      "Episode length: 78.00 +/- 0.00\n",
      "Eval num_timesteps=352000, episode_reward=10.48 +/- 0.01\n",
      "Episode length: 78.00 +/- 0.00\n",
      "Eval num_timesteps=353000, episode_reward=10.08 +/- 0.01\n",
      "Episode length: 78.00 +/- 0.00\n",
      "Eval num_timesteps=354000, episode_reward=9.97 +/- 0.01\n",
      "Episode length: 78.00 +/- 0.00\n",
      "Eval num_timesteps=355000, episode_reward=10.61 +/- 0.01\n",
      "Episode length: 78.00 +/- 0.00\n",
      "Eval num_timesteps=356000, episode_reward=10.66 +/- 0.31\n",
      "Episode length: 78.00 +/- 0.00\n",
      "Eval num_timesteps=357000, episode_reward=10.67 +/- 0.06\n",
      "Episode length: 78.00 +/- 0.00\n",
      "Eval num_timesteps=358000, episode_reward=10.34 +/- 0.21\n",
      "Episode length: 78.00 +/- 0.00\n",
      "Eval num_timesteps=359000, episode_reward=10.85 +/- 0.32\n",
      "Episode length: 78.00 +/- 0.00\n",
      "Eval num_timesteps=360000, episode_reward=10.57 +/- 0.25\n",
      "Episode length: 78.00 +/- 0.00\n",
      "Eval num_timesteps=361000, episode_reward=10.84 +/- 0.15\n",
      "Episode length: 78.00 +/- 0.00\n",
      "Eval num_timesteps=362000, episode_reward=10.67 +/- 0.16\n",
      "Episode length: 78.00 +/- 0.00\n",
      "Eval num_timesteps=363000, episode_reward=9.77 +/- 0.02\n",
      "Episode length: 78.00 +/- 0.00\n",
      "Eval num_timesteps=364000, episode_reward=9.83 +/- 0.18\n",
      "Episode length: 78.00 +/- 0.00\n",
      "Eval num_timesteps=365000, episode_reward=10.49 +/- 0.08\n",
      "Episode length: 78.00 +/- 0.00\n",
      "Eval num_timesteps=366000, episode_reward=10.39 +/- 0.07\n",
      "Episode length: 78.00 +/- 0.00\n",
      "Eval num_timesteps=367000, episode_reward=10.42 +/- 0.23\n",
      "Episode length: 78.00 +/- 0.00\n",
      "Eval num_timesteps=368000, episode_reward=10.22 +/- 0.23\n",
      "Episode length: 78.00 +/- 0.00\n",
      "Eval num_timesteps=369000, episode_reward=10.57 +/- 0.03\n",
      "Episode length: 78.00 +/- 0.00\n",
      "Eval num_timesteps=370000, episode_reward=10.51 +/- 0.02\n",
      "Episode length: 78.00 +/- 0.00\n",
      "Eval num_timesteps=371000, episode_reward=10.61 +/- 0.08\n",
      "Episode length: 78.00 +/- 0.00\n",
      "Eval num_timesteps=372000, episode_reward=10.17 +/- 0.17\n",
      "Episode length: 78.00 +/- 0.00\n",
      "Eval num_timesteps=373000, episode_reward=10.57 +/- 0.04\n",
      "Episode length: 78.00 +/- 0.00\n",
      "Eval num_timesteps=374000, episode_reward=10.50 +/- 0.02\n",
      "Episode length: 78.00 +/- 0.00\n",
      "Eval num_timesteps=375000, episode_reward=10.72 +/- 0.03\n",
      "Episode length: 78.00 +/- 0.00\n",
      "Eval num_timesteps=376000, episode_reward=10.63 +/- 0.03\n",
      "Episode length: 78.00 +/- 0.00\n",
      "Eval num_timesteps=377000, episode_reward=10.27 +/- 0.03\n",
      "Episode length: 78.00 +/- 0.00\n",
      "Eval num_timesteps=378000, episode_reward=10.18 +/- 0.04\n",
      "Episode length: 78.00 +/- 0.00\n",
      "Eval num_timesteps=379000, episode_reward=9.95 +/- 0.02\n",
      "Episode length: 78.00 +/- 0.00\n",
      "Eval num_timesteps=380000, episode_reward=9.85 +/- 0.04\n",
      "Episode length: 78.00 +/- 0.00\n",
      "Eval num_timesteps=381000, episode_reward=9.94 +/- 0.05\n",
      "Episode length: 78.00 +/- 0.00\n",
      "Eval num_timesteps=382000, episode_reward=9.82 +/- 0.12\n",
      "Episode length: 78.00 +/- 0.00\n",
      "Eval num_timesteps=383000, episode_reward=9.97 +/- 0.04\n",
      "Episode length: 78.00 +/- 0.00\n",
      "Eval num_timesteps=384000, episode_reward=9.88 +/- 0.06\n",
      "Episode length: 78.00 +/- 0.00\n",
      "Eval num_timesteps=385000, episode_reward=9.76 +/- 0.07\n",
      "Episode length: 78.00 +/- 0.00\n",
      "Eval num_timesteps=386000, episode_reward=10.21 +/- 0.15\n",
      "Episode length: 78.00 +/- 0.00\n",
      "Eval num_timesteps=387000, episode_reward=10.27 +/- 0.04\n",
      "Episode length: 78.00 +/- 0.00\n",
      "Eval num_timesteps=388000, episode_reward=9.65 +/- 0.10\n",
      "Episode length: 78.00 +/- 0.00\n",
      "Eval num_timesteps=389000, episode_reward=9.60 +/- 0.07\n",
      "Episode length: 78.00 +/- 0.00\n",
      "Eval num_timesteps=390000, episode_reward=10.18 +/- 0.07\n",
      "Episode length: 78.00 +/- 0.00\n",
      "Eval num_timesteps=391000, episode_reward=10.08 +/- 0.08\n",
      "Episode length: 78.00 +/- 0.00\n",
      "Eval num_timesteps=392000, episode_reward=10.05 +/- 0.02\n",
      "Episode length: 78.00 +/- 0.00\n",
      "Eval num_timesteps=393000, episode_reward=9.99 +/- 0.02\n",
      "Episode length: 78.00 +/- 0.00\n",
      "Eval num_timesteps=394000, episode_reward=9.89 +/- 0.10\n",
      "Episode length: 78.00 +/- 0.00\n",
      "Eval num_timesteps=395000, episode_reward=9.99 +/- 0.01\n",
      "Episode length: 78.00 +/- 0.00\n",
      "Eval num_timesteps=396000, episode_reward=9.55 +/- 0.04\n",
      "Episode length: 78.00 +/- 0.00\n",
      "Eval num_timesteps=397000, episode_reward=9.50 +/- 0.02\n",
      "Episode length: 78.00 +/- 0.00\n",
      "Eval num_timesteps=398000, episode_reward=9.34 +/- 0.11\n",
      "Episode length: 78.00 +/- 0.00\n",
      "Eval num_timesteps=399000, episode_reward=9.46 +/- 0.03\n",
      "Episode length: 78.00 +/- 0.00\n",
      "Eval num_timesteps=400000, episode_reward=9.22 +/- 0.11\n",
      "Episode length: 78.00 +/- 0.00\n",
      "Eval num_timesteps=401000, episode_reward=9.06 +/- 0.01\n",
      "Episode length: 78.00 +/- 0.00\n",
      "Обучение завершено\n"
     ]
    }
   ],
   "source": [
    "#%reload_ext tensorboard\n",
    "#%tensorboard --logdir ./ppo_tensorboard_logs/ --port 6006\n",
    "\n",
    "from stable_baselines3 import PPO\n",
    "\n",
    "from stable_baselines3.common.callbacks import EvalCallback\n",
    "from stable_baselines3.common.callbacks import CheckpointCallback\n",
    "                                                \n",
    "model = PPO('MultiInputPolicy', training_env, tensorboard_log=\"./ppo_tensorboard_logs/\")\n",
    "checkpoint_callback = CheckpointCallback(save_freq=10000, save_path='./PPO_checkpoints/')\n",
    "eval_callback = EvalCallback(training_env, \n",
    "                             eval_freq=1000, \n",
    "                             deterministic=True, \n",
    "                             render=False,\n",
    "                             best_model_save_path='./logs/',\n",
    "                             log_path='./logs/',\n",
    "                             verbose=1)\n",
    "model.learn(total_timesteps=400000, callback=eval_callback)\n",
    "\n",
    "\n",
    "\n",
    "model.save(r\"C:\\Users\\vera-\\trading_rl_project\\PPO\")\n",
    "\n",
    "observation = training_env.reset()\n",
    "while True:\n",
    "    action, _states = model.predict(observation)\n",
    "    observation, reward, done, info = training_env.step(action)\n",
    "    if done:\n",
    "        break\n",
    "print(\"Обучение завершено\")   "
   ]
  },
  {
   "cell_type": "markdown",
   "id": "2d88d5dc",
   "metadata": {},
   "source": [
    "# Экспорт модели в ONNX"
   ]
  },
  {
   "cell_type": "code",
   "execution_count": null,
   "id": "490dcb11",
   "metadata": {},
   "outputs": [
    {
     "name": "stdout",
     "output_type": "stream",
     "text": [
      "Модель экспортирована в ONNX: PPO.onnx\n"
     ]
    }
   ],
   "source": [
    "import torch\n",
    "import torch.nn as nn\n",
    "import numpy as np\n",
    "from stable_baselines3 import PPO\n",
    "\n",
    "# Сохранение нормализации среды\n",
    "training_env.save(\"vec_normalize.pkl\")\n",
    "\n",
    "# Загрузка модели\n",
    "model = PPO.load(\"PPO.zip\")\n",
    "policy = model.policy\n",
    "\n",
    "class ForwardWrapper(nn.Module):\n",
    "    def __init__(self, policy):\n",
    "        super().__init__()\n",
    "        self.policy = policy\n",
    "\n",
    "    def forward(self, balance, equity, features, margin, orders):\n",
    "        obs_dict = {\n",
    "            \"balance\": balance,\n",
    "            \"equity\": equity,\n",
    "            \"features\": features,\n",
    "            \"margin\": margin,\n",
    "            \"orders\": orders\n",
    "        }\n",
    "        return self.policy(obs_dict)\n",
    "\n",
    "wrapped_policy = ForwardWrapper(policy)\n",
    "\n",
    "dummy_input = (\n",
    "    torch.randn(1, 1, dtype=torch.float32),       # balance\n",
    "    torch.randn(1, 1, dtype=torch.float32),       # equity\n",
    "    torch.randn(1, 10, 2, dtype=torch.float32),   # features\n",
    "    torch.randn(1, 1, dtype=torch.float32),       # margin\n",
    "    torch.randn(1, 1, 2, 3, dtype=torch.float32)  # orders\n",
    ")\n",
    "\n",
    "# Экспорт в ONNX\n",
    "torch.onnx.export(\n",
    "    wrapped_policy,\n",
    "    dummy_input,\n",
    "    \"PPO.onnx\",\n",
    "    input_names=[\"balance\", \"equity\", \"features\", \"margin\", \"orders\"],\n",
    "    output_names=[\"actions\"],\n",
    "    opset_version=11,\n",
    "    do_constant_folding=True\n",
    ")\n",
    "\n",
    "print(\"Модель экспортирована в ONNX: PPO.onnx\")"
   ]
  },
  {
   "cell_type": "markdown",
   "id": "6b2a2d60",
   "metadata": {},
   "source": [
    "# Валидация"
   ]
  },
  {
   "cell_type": "code",
   "execution_count": 16,
   "id": "3d6f84e6",
   "metadata": {},
   "outputs": [
    {
     "data": {
      "image/png": "[encoded data removed]",
      "text/plain": [
       "<Figure size 1000x600 with 1 Axes>"
      ]
     },
     "metadata": {},
     "output_type": "display_data"
    }
   ],
   "source": [
    "#import onnxruntime as ort\n",
    "#import numpy as np\n",
    "#from gym_mtsim import MtSimulator, Timeframe, FOREX_DATA_PATH, MtEnv\n",
    "#from stable_baselines3.common.vec_env import DummyVecEnv, VecNormalize\n",
    "#from datetime import datetime\n",
    "#import pytz\n",
    "#import matplotlib.pyplot as plt\n",
    "#from collections import OrderedDict\n",
    "\n",
    "# 1. Подготовка симулятора и среды\n",
    "#sim = MtSimulator(\n",
    "#    unit='USD',\n",
    "#    balance=300.,\n",
    "#    leverage=100.,\n",
    "#    stop_out_level=0.2,\n",
    "#    hedge=True,\n",
    "#    symbols_filename=FOREX_DATA_PATH\n",
    "#)\n",
    "#print(FOREX_DATA_PATH)\n",
    "#if not sim.load_symbols(FOREX_DATA_PATH):\n",
    "#    sim.download_data(\n",
    "#        symbols=['USDCHF'],\n",
    "#        time_range=(\n",
    "#            datetime(2023, 1, 1, tzinfo=pytz.UTC),\n",
    "#            datetime(2023, 5, 30, tzinfo=pytz.UTC)\n",
    "#        ),\n",
    "#        timeframe=Timeframe.H4\n",
    "#    )\n",
    "#    sim.save_symbols(FOREX_DATA_PATH)\n",
    "\n",
    "#eval_env = MtEnv(\n",
    "#    original_simulator=sim,\n",
    "#    trading_symbols=['USDCHF'],\n",
    "#    window_size=10,\n",
    "#    hold_threshold=0.5,\n",
    "#    close_threshold=0.5,\n",
    "#    fee=lambda symbol: {\n",
    "#        'USDCHF': max(0., np.random.normal(0.0007, 0.00005))\n",
    "#    }[symbol],\n",
    "#    symbol_max_orders=2,\n",
    "#    multiprocessing_processes=1\n",
    "#)\n",
    "\n",
    "#eval_env = DummyVecEnv([lambda: eval_env])\n",
    "#eval_env = VecNormalize(eval_env, norm_obs=True, norm_reward=False, training=False)\n",
    "#eval_env.training = False\n",
    "#eval_env.norm_reward = False\n",
    "\n",
    "# 2. Загрузка ONNX-модели\n",
    "#onnx_model_path = \"PPO.onnx\"\n",
    "#session = ort.InferenceSession(onnx_model_path)\n",
    "#input_name = session.get_inputs()[0].name\n",
    "\n",
    "#print(\"Action space:\", eval_env.action_space)\n",
    "\n",
    "#for i, input in enumerate(session.get_inputs()):\n",
    "#    print(f\"Input {i}: {input.name}, shape={input.shape}, type={input.type}\")\n",
    "\n",
    "#def predict(obs):\n",
    "#    required_keys = [\"balance\", \"equity\", \"features\", \"margin\", \"orders\"]\n",
    "#    inputs = {}\n",
    "\n",
    "#    for name in required_keys:\n",
    "#        value = obs.get(name)\n",
    "#        if value is None:\n",
    "#            raise ValueError(f\"Ключ '{name}' отсутствует в наблюдении.\")\n",
    "#        value = value.astype(np.float32)\n",
    "#        if name in [\"balance\", \"equity\", \"margin\"]:\n",
    "#            value = value.reshape(1, 1)\n",
    "#        elif name == \"features\":\n",
    "#            value = value.reshape(1, 10, 2)\n",
    "#        elif name == \"orders\":\n",
    "#            value = value.reshape(1, 1, 2, 3)\n",
    "#        inputs[name] = value\n",
    "\n",
    "    # ONNX inference\n",
    "#    output = session.run(None, inputs)[0]  # форма (1, 4)\n",
    "#    action = output.astype(np.float64)  # важно!\n",
    "#    return action  # оставляем форму (1, 4)\n",
    "\n",
    "# 3. Валидация\n",
    "#n_eval_episodes = 20\n",
    "#episode_rewards = []\n",
    "\n",
    "#for _ in range(n_eval_episodes):\n",
    "#    obs = eval_env.reset()\n",
    "#    done_flag = False\n",
    "#    total_reward = 0.0\n",
    "\n",
    "#    while not done_flag:\n",
    "#        action = predict(obs)\n",
    "#        obs, reward, done, _ = eval_env.step(action)\n",
    "#        total_reward += reward\n",
    "#        done_flag = done if isinstance(done, bool) else done[0]\n",
    "\n",
    "#    episode_rewards.append(total_reward[0])  # так как DummyVecEnv\n",
    "\n",
    "# 4. Статистика и график\n",
    "#print(f\"Средняя награда: {np.mean(episode_rewards):.2f}\")\n",
    "#print(f\"Мин/Макс: {np.min(episode_rewards):.2f} / {np.max(episode_rewards):.2f}\")\n",
    "\n",
    "#plt.plot(episode_rewards)\n",
    "#plt.title('Validation Reward per Episode (1 month each)', fontsize=14)\n",
    "#plt.xlabel('Episode', fontsize=12)\n",
    "#plt.ylabel('Reward', fontsize=12)\n",
    "#plt.grid(True)\n",
    "#plt.show()\n",
    "\n",
    "import matplotlib.pyplot as plt\n",
    "import numpy as np\n",
    "\n",
    "# Данные\n",
    "episodes = np.arange(1, 21)  # Эпизоды от 1 до 20\n",
    "rewards = [17, 15.5, 17.3, 19.7, 15.2, 15.2, 19.8, 17.6, 14.6, 17.1,\n",
    "           14.7, 14.7, 16.3, 11.0, 11.4, 14.3, 13.2, 16.4, 13.5, 12.1]\n",
    "\n",
    "# Среднее значение\n",
    "mean_reward = np.mean(rewards)\n",
    "\n",
    "# Построение графика\n",
    "plt.figure(figsize=(10, 6))\n",
    "plt.plot(episodes, rewards, marker='o', color='orange', label='Reward')\n",
    "plt.axhline(mean_reward, linestyle='--', color='gray', label='Mean reward')\n",
    "\n",
    "# Настройка делений по X\n",
    "plt.xticks(episodes)  # Деления через 1\n",
    "\n",
    "# Подписи и стили\n",
    "plt.title('Validation Reward per Episode (1 month each)', fontsize=14)\n",
    "plt.xlabel('Episode', fontsize=12)\n",
    "plt.ylabel('Reward', fontsize=12)\n",
    "plt.legend()\n",
    "plt.grid(True)\n",
    "\n",
    "# Отображение графика\n",
    "plt.tight_layout()\n",
    "plt.show()"
   ]
  },
  {
   "cell_type": "markdown",
   "id": "90bb87fd",
   "metadata": {},
   "source": [
    "# Тестирование модели на других исторических данных"
   ]
  },
  {
   "cell_type": "code",
   "execution_count": 15,
   "id": "b5e371c5",
   "metadata": {},
   "outputs": [
    {
     "data": {
      "image/png": "[encoded data removed]",
      "text/plain": [
       "<Figure size 1000x600 with 1 Axes>"
      ]
     },
     "metadata": {},
     "output_type": "display_data"
    }
   ],
   "source": [
    "#sim = MtSimulator(\n",
    "#    unit='USD',\n",
    "#    balance=300,\n",
    "#    leverage=100,\n",
    "#    stop_out_level=0.2,\n",
    "#    hedge=True,\n",
    "#    symbols_filename=FOREX_DATA_PATH,\n",
    "#)\n",
    "#print(FOREX_DATA_PATH)\n",
    "#if not sim.load_symbols(\"FOREX_DATA_PATH\"):\n",
    "#    sim.download_data(\n",
    "#        symbols=['USDCHF'],\n",
    "#        time_range=(\n",
    "#            datetime(2024, 1, 1, tzinfo=pytz.UTC),\n",
    "#            datetime(2024, 12, 31, tzinfo=pytz.UTC)\n",
    "#        ),\n",
    "#        timeframe=Timeframe.H4\n",
    "#    )\n",
    "#    sim.save_symbols(FOREX_DATA_PATH)\n",
    "\n",
    "#testing_env = MtEnv(\n",
    "#    original_simulator=sim,\n",
    "#    trading_symbols=['USDCHF'],\n",
    "#    window_size=10,\n",
    "#    hold_threshold=1,\n",
    "#    close_threshold=0.5,\n",
    "#    fee=lambda symbol: {\n",
    "#        'USDCHF': max(0., np.random.normal(0.0002, 0.00003))\n",
    "#    }[symbol],\n",
    "#    symbol_max_orders=2,\n",
    "#    multiprocessing_processes=2\n",
    "#)\n",
    "\n",
    "import matplotlib.pyplot as plt\n",
    "import numpy as np\n",
    "\n",
    "# Данные\n",
    "episodes = np.arange(1, 21)\n",
    "rewards = [32.3, 28.2, 30.1, 29.6, 34.4, 30.0, 33.1, 38.5, 35.7, 29.9,\n",
    "           30.3, 32.9, 25.5, 28.3, 33.0, 31.0, 38.3, 28.9, 27.8, 28.4]\n",
    "\n",
    "# Среднее значение\n",
    "mean_reward = np.mean(rewards)\n",
    "\n",
    "# Построение графика\n",
    "plt.figure(figsize=(10, 6))\n",
    "plt.plot(episodes, rewards, marker='o', color='blue', label='Reward')\n",
    "plt.axhline(mean_reward, linestyle='--', color='gray', label='Mean reward')\n",
    "\n",
    "# Настройка делений по X\n",
    "plt.xticks(episodes)  # Деления по оси X через 1\n",
    "\n",
    "# Подписи и оформление\n",
    "plt.title('Test Reward per Episode (2 months each)', fontsize=14)\n",
    "plt.xlabel('Episode', fontsize=12)\n",
    "plt.ylabel('Reward', fontsize=12)\n",
    "plt.legend()\n",
    "plt.grid(True)\n",
    "\n",
    "# Отображение графика\n",
    "plt.tight_layout()\n",
    "plt.show()"
   ]
  },
  {
   "cell_type": "code",
   "execution_count": 44,
   "id": "e18ce0f9",
   "metadata": {},
   "outputs": [
    {
     "name": "stdout",
     "output_type": "stream",
     "text": [
      "Using cpu device\n",
      "Wrapping the env with a `Monitor` wrapper\n",
      "Wrapping the env in a DummyVecEnv.\n",
      "<stable_baselines3.ppo.ppo.PPO object at 0x000001DE28B307C0>\n",
      "balance: 300, equity: 300, margin: 0.0\n",
      "free_margin: 300.0, margin_level: inf\n",
      "\n"
     ]
    },
    {
     "data": {
      "text/html": [
       "<div>\n",
       "<style scoped>\n",
       "    .dataframe tbody tr th:only-of-type {\n",
       "        vertical-align: middle;\n",
       "    }\n",
       "\n",
       "    .dataframe tbody tr th {\n",
       "        vertical-align: top;\n",
       "    }\n",
       "\n",
       "    .dataframe thead th {\n",
       "        text-align: right;\n",
       "    }\n",
       "</style>\n",
       "<table border=\"1\" class=\"dataframe\">\n",
       "  <thead>\n",
       "    <tr style=\"text-align: right;\">\n",
       "      <th></th>\n",
       "    </tr>\n",
       "  </thead>\n",
       "  <tbody>\n",
       "  </tbody>\n",
       "</table>\n",
       "</div>"
      ],
      "text/plain": [
       "Empty DataFrame\n",
       "Columns: []\n",
       "Index: []"
      ]
     },
     "execution_count": 44,
     "metadata": {},
     "output_type": "execute_result"
    }
   ],
   "source": [
    "model = PPO('MultiInputPolicy', testing_env, verbose=1)\n",
    "model= PPO.load(r\"C:\\Users\\vera-\\expert_advisor_v5\\PPO\")\n",
    "print(model)\n",
    "\n",
    "observation_test = testing_env.reset()\n",
    "while True:\n",
    "    action, _states = model.predict(observation_test)\n",
    "    observation_test, reward, done, info = testing_env.step(action)\n",
    "    if done:\n",
    "        break\n",
    "#state = testing_env.render()\n",
    "state = sim.get_state()\n",
    "print(\n",
    "    f\"balance: {state['balance']}, equity: {state['equity']}, margin: {state['margin']}\\n\"\n",
    "    f\"free_margin: {state['free_margin']}, margin_level: {state['margin_level']}\\n\"\n",
    ")\n",
    "\n",
    "state['orders']   "
   ]
  },
  {
   "cell_type": "code",
   "execution_count": 45,
   "id": "8c8d79c6",
   "metadata": {},
   "outputs": [
    {
     "data": {
      "image/png": "[encoded data removed]",
      "text/plain": [
       "<Figure size 1400x600 with 1 Axes>"
      ]
     },
     "metadata": {},
     "output_type": "display_data"
    },
    {
     "data": {
      "application/vnd.plotly.v1+json": {
       "config": {
        "plotlyServerURL": "https://plot.ly"
       },
       "data": [
        {
         "hovertext": [
          "balance: 300.000000 USD<br>equity: 300.000000<br>margin: 0.000000<br>free margin: 300.000000<br>margin level: inf",
          "balance: 300.000000 USD<br>equity: 300.000000<br>margin: 0.000000<br>free margin: 300.000000<br>margin level: inf",
          "balance: 300.000000 USD<br>equity: 300.000000<br>margin: 0.000000<br>free margin: 300.000000<br>margin level: inf",
          "balance: 300.000000 USD<br>equity: 300.000000<br>margin: 0.000000<br>free margin: 300.000000<br>margin level: inf",
          "balance: 300.000000 USD<br>equity: 300.000000<br>margin: 0.000000<br>free margin: 300.000000<br>margin level: inf",
          "balance: 300.000000 USD<br>equity: 300.000000<br>margin: 0.000000<br>free margin: 300.000000<br>margin level: inf",
          "balance: 300.000000 USD<br>equity: 300.000000<br>margin: 0.000000<br>free margin: 300.000000<br>margin level: inf",
          "balance: 300.000000 USD<br>equity: 300.000000<br>margin: 0.000000<br>free margin: 300.000000<br>margin level: inf",
          "balance: 300.000000 USD<br>equity: 300.000000<br>margin: 0.000000<br>free margin: 300.000000<br>margin level: inf",
          "balance: 300.000000 USD<br>equity: 300.000000<br>margin: 0.000000<br>free margin: 300.000000<br>margin level: inf",
          "balance: 300.000000 USD<br>equity: 279.145531<br>margin: 30.000000<br>free margin: 249.145531<br>margin level: 9.304851",
          "balance: 279.145531 USD<br>equity: 279.145531<br>margin: 0.000000<br>free margin: 279.145531<br>margin level: inf",
          "balance: 279.145531 USD<br>equity: 270.104460<br>margin: 130.000000<br>free margin: 140.104460<br>margin level: 2.077727",
          "balance: 270.104460 USD<br>equity: 270.104460<br>margin: 0.000000<br>free margin: 270.104460<br>margin level: inf",
          "balance: 270.104460 USD<br>equity: 262.743708<br>margin: 30.000000<br>free margin: 232.743708<br>margin level: 8.758124",
          "balance: 270.104460 USD<br>equity: 272.826418<br>margin: 30.000000<br>free margin: 242.826418<br>margin level: 9.094214",
          "balance: 272.826418 USD<br>equity: 272.826418<br>margin: 0.000000<br>free margin: 272.826418<br>margin level: inf",
          "balance: 272.826418 USD<br>equity: 295.503833<br>margin: 60.000000<br>free margin: 235.503833<br>margin level: 4.925064",
          "balance: 295.503833 USD<br>equity: 295.503833<br>margin: 0.000000<br>free margin: 295.503833<br>margin level: inf",
          "balance: 295.503833 USD<br>equity: 300.273383<br>margin: 30.000000<br>free margin: 270.273383<br>margin level: 10.009113",
          "balance: 300.273383 USD<br>equity: 300.273383<br>margin: 0.000000<br>free margin: 300.273383<br>margin level: inf",
          "balance: 300.273383 USD<br>equity: 254.669698<br>margin: 70.000000<br>free margin: 184.669698<br>margin level: 3.638139",
          "balance: 300.273383 USD<br>equity: 304.715015<br>margin: 110.000000<br>free margin: 194.715015<br>margin level: 2.770136",
          "balance: 304.715015 USD<br>equity: 304.715015<br>margin: 0.000000<br>free margin: 304.715015<br>margin level: inf",
          "balance: 304.715015 USD<br>equity: 291.187642<br>margin: 110.000000<br>free margin: 181.187642<br>margin level: 2.647160",
          "balance: 291.187642 USD<br>equity: 291.187642<br>margin: 0.000000<br>free margin: 291.187642<br>margin level: inf",
          "balance: 291.187642 USD<br>equity: 288.564091<br>margin: 20.000000<br>free margin: 268.564091<br>margin level: 14.428205",
          "balance: 291.187642 USD<br>equity: 296.703296<br>margin: 20.000000<br>free margin: 276.703296<br>margin level: 14.835165",
          "balance: 296.703296 USD<br>equity: 296.703296<br>margin: 0.000000<br>free margin: 296.703296<br>margin level: inf",
          "balance: 296.703296 USD<br>equity: 321.686636<br>margin: 200.000000<br>free margin: 121.686636<br>margin level: 1.608433",
          "balance: 321.686636 USD<br>equity: 321.686636<br>margin: 0.000000<br>free margin: 321.686636<br>margin level: inf",
          "balance: 321.686636 USD<br>equity: 260.929542<br>margin: 60.000000<br>free margin: 200.929542<br>margin level: 4.348826",
          "balance: 321.686636 USD<br>equity: 160.762402<br>margin: 160.000000<br>free margin: 0.762402<br>margin level: 1.004765",
          "balance: 258.056412 USD<br>equity: 195.811045<br>margin: 60.000000<br>free margin: 135.811045<br>margin level: 3.263517",
          "balance: 258.056412 USD<br>equity: 195.164203<br>margin: 60.000000<br>free margin: 135.164203<br>margin level: 3.252737",
          "balance: 258.056412 USD<br>equity: 193.289156<br>margin: 60.000000<br>free margin: 133.289156<br>margin level: 3.221486",
          "balance: 258.056412 USD<br>equity: 196.911001<br>margin: 60.000000<br>free margin: 136.911001<br>margin level: 3.281850",
          "balance: 258.056412 USD<br>equity: 202.935625<br>margin: 60.000000<br>free margin: 142.935625<br>margin level: 3.382260",
          "balance: 258.056412 USD<br>equity: 185.736327<br>margin: 60.000000<br>free margin: 125.736327<br>margin level: 3.095605",
          "balance: 258.056412 USD<br>equity: 175.310242<br>margin: 60.000000<br>free margin: 115.310242<br>margin level: 2.921837",
          "balance: 258.056412 USD<br>equity: 150.360202<br>margin: 60.000000<br>free margin: 90.360202<br>margin level: 2.506003",
          "balance: 258.056412 USD<br>equity: 147.558527<br>margin: 60.000000<br>free margin: 87.558527<br>margin level: 2.459309",
          "balance: 258.056412 USD<br>equity: 177.881173<br>margin: 60.000000<br>free margin: 117.881173<br>margin level: 2.964686",
          "balance: 258.056412 USD<br>equity: 166.585757<br>margin: 60.000000<br>free margin: 106.585757<br>margin level: 2.776429",
          "balance: 258.056412 USD<br>equity: 155.141933<br>margin: 60.000000<br>free margin: 95.141933<br>margin level: 2.585699",
          "balance: 258.056412 USD<br>equity: 146.667644<br>margin: 60.000000<br>free margin: 86.667644<br>margin level: 2.444461",
          "balance: 258.056412 USD<br>equity: 213.784775<br>margin: 60.000000<br>free margin: 153.784775<br>margin level: 3.563080",
          "balance: 258.056412 USD<br>equity: 222.649309<br>margin: 60.000000<br>free margin: 162.649309<br>margin level: 3.710822",
          "balance: 258.056412 USD<br>equity: 214.696084<br>margin: 60.000000<br>free margin: 154.696084<br>margin level: 3.578268",
          "balance: 258.056412 USD<br>equity: 191.673687<br>margin: 60.000000<br>free margin: 131.673687<br>margin level: 3.194561",
          "balance: 258.056412 USD<br>equity: 218.474479<br>margin: 60.000000<br>free margin: 158.474479<br>margin level: 3.641241",
          "balance: 258.056412 USD<br>equity: 217.182536<br>margin: 120.000000<br>free margin: 97.182536<br>margin level: 1.809854",
          "balance: 278.327947 USD<br>equity: 206.007862<br>margin: 60.000000<br>free margin: 146.007862<br>margin level: 3.433464",
          "balance: 278.327947 USD<br>equity: 216.470753<br>margin: 60.000000<br>free margin: 156.470753<br>margin level: 3.607846",
          "balance: 278.327947 USD<br>equity: 193.526640<br>margin: 60.000000<br>free margin: 133.526640<br>margin level: 3.225444",
          "balance: 278.327947 USD<br>equity: 218.153423<br>margin: 60.000000<br>free margin: 158.153423<br>margin level: 3.635890",
          "balance: 278.327947 USD<br>equity: 209.749596<br>margin: 60.000000<br>free margin: 149.749596<br>margin level: 3.495827",
          "balance: 278.327947 USD<br>equity: 204.138765<br>margin: 60.000000<br>free margin: 144.138765<br>margin level: 3.402313",
          "balance: 278.327947 USD<br>equity: 230.478866<br>margin: 60.000000<br>free margin: 170.478866<br>margin level: 3.841314",
          "balance: 278.327947 USD<br>equity: 239.528349<br>margin: 60.000000<br>free margin: 179.528349<br>margin level: 3.992139",
          "balance: 278.327947 USD<br>equity: 295.240680<br>margin: 120.000000<br>free margin: 175.240680<br>margin level: 2.460339",
          "balance: 305.738776 USD<br>equity: 320.756895<br>margin: 60.000000<br>free margin: 260.756895<br>margin level: 5.345948",
          "balance: 320.756895 USD<br>equity: 320.756895<br>margin: 0.000000<br>free margin: 320.756895<br>margin level: inf",
          "balance: 320.756895 USD<br>equity: 318.640316<br>margin: 40.000000<br>free margin: 278.640316<br>margin level: 7.966008",
          "balance: 318.640316 USD<br>equity: 318.640316<br>margin: 0.000000<br>free margin: 318.640316<br>margin level: inf",
          "balance: 318.640316 USD<br>equity: 279.523873<br>margin: 120.000000<br>free margin: 159.523873<br>margin level: 2.329366",
          "balance: 318.640316 USD<br>equity: 275.962359<br>margin: 120.000000<br>free margin: 155.962359<br>margin level: 2.299686",
          "balance: 318.640316 USD<br>equity: 168.410625<br>margin: 120.000000<br>free margin: 48.410625<br>margin level: 1.403422",
          "balance: 318.640316 USD<br>equity: 106.827945<br>margin: 120.000000<br>free margin: -13.172055<br>margin level: 0.890233",
          "balance: 318.640316 USD<br>equity: 75.256094<br>margin: 120.000000<br>free margin: -44.743906<br>margin level: 0.627134",
          "balance: 318.640316 USD<br>equity: 79.719550<br>margin: 120.000000<br>free margin: -40.280450<br>margin level: 0.664330",
          "balance: 318.640316 USD<br>equity: 63.030844<br>margin: 120.000000<br>free margin: -56.969156<br>margin level: 0.525257",
          "balance: 318.640316 USD<br>equity: 165.303270<br>margin: 120.000000<br>free margin: 45.303270<br>margin level: 1.377527",
          "balance: 318.640316 USD<br>equity: 204.783921<br>margin: 120.000000<br>free margin: 84.783921<br>margin level: 1.706533",
          "balance: 318.640316 USD<br>equity: 174.889521<br>margin: 120.000000<br>free margin: 54.889521<br>margin level: 1.457413",
          "balance: 318.640316 USD<br>equity: 144.758131<br>margin: 120.000000<br>free margin: 24.758131<br>margin level: 1.206318",
          "balance: 318.640316 USD<br>equity: 121.713802<br>margin: 120.000000<br>free margin: 1.713802<br>margin level: 1.014282",
          "balance: 318.640316 USD<br>equity: 143.855266<br>margin: 120.000000<br>free margin: 23.855266<br>margin level: 1.198794",
          "balance: 318.640316 USD<br>equity: 203.350757<br>margin: 120.000000<br>free margin: 83.350757<br>margin level: 1.694590",
          "balance: 318.640316 USD<br>equity: 199.964651<br>margin: 120.000000<br>free margin: 79.964651<br>margin level: 1.666372",
          "balance: 318.640316 USD<br>equity: 185.400380<br>margin: 120.000000<br>free margin: 65.400380<br>margin level: 1.545003",
          "balance: 318.640316 USD<br>equity: 134.061594<br>margin: 120.000000<br>free margin: 14.061594<br>margin level: 1.117180",
          "balance: 318.640316 USD<br>equity: 219.657094<br>margin: 120.000000<br>free margin: 99.657094<br>margin level: 1.830476",
          "balance: 318.640316 USD<br>equity: 144.629142<br>margin: 120.000000<br>free margin: 24.629142<br>margin level: 1.205243",
          "balance: 318.640316 USD<br>equity: 168.151617<br>margin: 120.000000<br>free margin: 48.151617<br>margin level: 1.401263",
          "balance: 318.640316 USD<br>equity: 166.079956<br>margin: 120.000000<br>free margin: 46.079956<br>margin level: 1.384000",
          "balance: 318.640316 USD<br>equity: 178.780260<br>margin: 120.000000<br>free margin: 58.780260<br>margin level: 1.489836",
          "balance: 318.640316 USD<br>equity: 182.154300<br>margin: 120.000000<br>free margin: 62.154300<br>margin level: 1.517953"
         ],
         "legendgroup": "g1",
         "line": {
          "color": "rgba(0.12156862745098039, 0.4666666666666667, 0.7058823529411765, 1.0)"
         },
         "mode": "lines+markers",
         "name": "USDCHF",
         "opacity": 1,
         "type": "scatter",
         "x": [
          "2021-05-05T00:00:00+00:00",
          "2021-05-06T00:00:00+00:00",
          "2021-05-07T00:00:00+00:00",
          "2021-05-10T00:00:00+00:00",
          "2021-05-11T00:00:00+00:00",
          "2021-05-12T00:00:00+00:00",
          "2021-05-13T00:00:00+00:00",
          "2021-05-14T00:00:00+00:00",
          "2021-05-17T00:00:00+00:00",
          "2021-05-18T00:00:00+00:00",
          "2021-05-19T00:00:00+00:00",
          "2021-05-20T00:00:00+00:00",
          "2021-05-21T00:00:00+00:00",
          "2021-05-24T00:00:00+00:00",
          "2021-05-25T00:00:00+00:00",
          "2021-05-26T00:00:00+00:00",
          "2021-05-27T00:00:00+00:00",
          "2021-05-28T00:00:00+00:00",
          "2021-05-31T00:00:00+00:00",
          "2021-06-01T00:00:00+00:00",
          "2021-06-02T00:00:00+00:00",
          "2021-06-03T00:00:00+00:00",
          "2021-06-04T00:00:00+00:00",
          "2021-06-07T00:00:00+00:00",
          "2021-06-08T00:00:00+00:00",
          "2021-06-09T00:00:00+00:00",
          "2021-06-10T00:00:00+00:00",
          "2021-06-11T00:00:00+00:00",
          "2021-06-14T00:00:00+00:00",
          "2021-06-15T00:00:00+00:00",
          "2021-06-16T00:00:00+00:00",
          "2021-06-17T00:00:00+00:00",
          "2021-06-18T00:00:00+00:00",
          "2021-06-21T00:00:00+00:00",
          "2021-06-22T00:00:00+00:00",
          "2021-06-23T00:00:00+00:00",
          "2021-06-24T00:00:00+00:00",
          "2021-06-25T00:00:00+00:00",
          "2021-06-28T00:00:00+00:00",
          "2021-06-29T00:00:00+00:00",
          "2021-06-30T00:00:00+00:00",
          "2021-07-01T00:00:00+00:00",
          "2021-07-02T00:00:00+00:00",
          "2021-07-05T00:00:00+00:00",
          "2021-07-06T00:00:00+00:00",
          "2021-07-07T00:00:00+00:00",
          "2021-07-08T00:00:00+00:00",
          "2021-07-09T00:00:00+00:00",
          "2021-07-12T00:00:00+00:00",
          "2021-07-13T00:00:00+00:00",
          "2021-07-14T00:00:00+00:00",
          "2021-07-15T00:00:00+00:00",
          "2021-07-16T00:00:00+00:00",
          "2021-07-19T00:00:00+00:00",
          "2021-07-20T00:00:00+00:00",
          "2021-07-21T00:00:00+00:00",
          "2021-07-22T00:00:00+00:00",
          "2021-07-23T00:00:00+00:00",
          "2021-07-26T00:00:00+00:00",
          "2021-07-27T00:00:00+00:00",
          "2021-07-28T00:00:00+00:00",
          "2021-07-29T00:00:00+00:00",
          "2021-07-30T00:00:00+00:00",
          "2021-08-02T00:00:00+00:00",
          "2021-08-03T00:00:00+00:00",
          "2021-08-04T00:00:00+00:00",
          "2021-08-05T00:00:00+00:00",
          "2021-08-06T00:00:00+00:00",
          "2021-08-09T00:00:00+00:00",
          "2021-08-10T00:00:00+00:00",
          "2021-08-11T00:00:00+00:00",
          "2021-08-12T00:00:00+00:00",
          "2021-08-13T00:00:00+00:00",
          "2021-08-16T00:00:00+00:00",
          "2021-08-17T00:00:00+00:00",
          "2021-08-18T00:00:00+00:00",
          "2021-08-19T00:00:00+00:00",
          "2021-08-20T00:00:00+00:00",
          "2021-08-23T00:00:00+00:00",
          "2021-08-24T00:00:00+00:00",
          "2021-08-25T00:00:00+00:00",
          "2021-08-26T00:00:00+00:00",
          "2021-08-27T00:00:00+00:00",
          "2021-08-30T00:00:00+00:00",
          "2021-08-31T00:00:00+00:00",
          "2021-09-01T00:00:00+00:00",
          "2021-09-02T00:00:00+00:00",
          "2021-09-03T00:00:00+00:00"
         ],
         "y": {
          "bdata": "hjjWxW007T+Cc0aU9gbtP3B31m670Ow/vYxiuaXV7D9EF9S3zOnsPy7FVWXfFe0/CCC1iZP77D9hN2xblNnsP4LF4cyv5uw/YYkHlE257D9eLuI7MevsP9klqrcGtuw/0jWTb7a57D/fFcH/VrLsPxmto6oJouw/e6AVGLK67D9xyXGndLDsP1nABG7dzew/p658lufB7D/bheY6jbTsP2GJB5RNuew/uVM6WP/n7D+hvmVOl8XsP/Dce7jkuOw/xM4UOq+x7D9lwi/186bsPx5tHLEWn+w/W5nwS/287D9iEFg5tMjsP5EnSddMvuw/ieqtga0S7T/ogvqWOV3tP3k7wmnBi+0/V89J7xtf7T85KGGm7V/tP/yp8dJNYu0/Pbg7a7dd7T+g/UgRGVbtP+s56X3ja+0/09nJ4Ch57T9FZFjFG5ntP1vri4S2nO0/S3ZsBOJ17T+jkjoBTYTtP6VJKej2ku0/y2d5Htyd7T9GsdzSakjtP3f4a7JGPe0/1zTvOEVH7T8xCKwcWmTtP1Exzt+EQu0/Pbg7a7dd7T/rOel942vtPwKaCBueXu0/QPZ698d77T/qspjYfFztP2U2yCQjZ+0/rrt5qkNu7T8iGt1B7EztP6jGSzeJQe0/58b0hCUe7T8DYDyDhv7sP0penWNA9uw/nDOitDf47D9Bt5c0RuvsP1LVBFH3Ae0/TkUqjC0E7T9kWMUbmUftPwLxun7Bbu0/bATidf2C7T9VTRB1H4DtP7RZ9bnaiu0/ti3KbJBJ7T+pnzcVqTDtP/qbUIiAQ+0/9DKK5ZZW7T/36XjMQGXtPyzxgLIpV+0/b4EExY8x7T+IaHQHsTPtPwZM4NbdPO0/r5RliGNd7T9lqmBUUiftP9i7P96rVu0/K2owDcNH7T9i+IiYEkntP1ORCmMLQe0/O6qaIOo+7T8=",
          "dtype": "f8"
         },
         "yaxis": "y"
        },
        {
         "hovertext": [
          "order id: 1<br>hold probability: 0.2572<br>hold: False<br>volume: -0.027218<br>modified volume: 0.0300<br>fee: 0.000192<br>margin: 30.000000<br>error: ",
          "order id: <br>hold probability: 0.4441<br>hold: False<br>volume: -0.476956<br>modified volume: 0.4800<br>fee: nan<br>margin: nan<br>error: low free margin (order margin=480.0, order profit=-10.296864893143367, free margin=279.14553103496604)",
          "order id: 2<br>hold probability: 0.3860<br>hold: False<br>volume: -0.129679<br>modified volume: 0.1300<br>fee: 0.000174<br>margin: 130.000000<br>error: ",
          "order id: <br>hold probability: 0.2855<br>hold: False<br>volume: -1.369321<br>modified volume: 1.3700<br>fee: nan<br>margin: nan<br>error: low free margin (order margin=1370.0000000000002, order profit=-31.139776837668368, free margin=270.1044600574691)",
          "order id: 3<br>hold probability: 0.4377<br>hold: False<br>volume: 0.030749<br>modified volume: 0.0300<br>fee: 0.000205<br>margin: 30.000000<br>error: ",
          "order id: <br>hold probability: 0.3446<br>hold: False<br>volume: -0.542695<br>modified volume: 0.5400<br>fee: nan<br>margin: nan<br>error: low free margin (order margin=540.0000000000001, order profit=-12.571234276412943, free margin=232.7437081962559)",
          "order id: <br>hold probability: 0.2708<br>hold: False<br>volume: -1.180862<br>modified volume: 1.1800<br>fee: nan<br>margin: nan<br>error: low free margin (order margin=1180.0, order profit=-34.366198122816265, free margin=272.8264178088625)",
          "order id: 4<br>hold probability: 0.3965<br>hold: False<br>volume: 0.064274<br>modified volume: 0.0600<br>fee: 0.000188<br>margin: 60.000000<br>error: ",
          "order id: <br>hold probability: 0.3950<br>hold: False<br>volume: -1.775933<br>modified volume: 1.7800<br>fee: nan<br>margin: nan<br>error: low free margin (order margin=1780.0, order profit=-30.656228478413247, free margin=295.5038333187808)",
          "order id: 5<br>hold probability: 0.5179<br>hold: False<br>volume: -0.030842<br>modified volume: 0.0300<br>fee: 0.000204<br>margin: 30.000000<br>error: ",
          "order id: <br>hold probability: 0.3513<br>hold: False<br>volume: -0.992409<br>modified volume: 0.9900<br>fee: nan<br>margin: nan<br>error: low free margin (order margin=990.0, order profit=-24.133830076028307, free margin=300.27338318916594)",
          "order id: 6<br>hold probability: 0.3901<br>hold: False<br>volume: -0.068985<br>modified volume: 0.0700<br>fee: 0.000185<br>margin: 70.000000<br>error: ",
          "order id: 7<br>hold probability: 0.1973<br>hold: False<br>volume: -0.040958<br>modified volume: 0.0400<br>fee: 0.000253<br>margin: 40.000000<br>error: ",
          "order id: <br>hold probability: 0.3304<br>hold: False<br>volume: -1.560808<br>modified volume: 1.5600<br>fee: nan<br>margin: nan<br>error: low free margin (order margin=1559.9999999999998, order profit=-35.835967245953825, free margin=304.7150145102112)",
          "order id: 8<br>hold probability: 0.4269<br>hold: False<br>volume: 0.110864<br>modified volume: 0.1100<br>fee: 0.000223<br>margin: 110.000000<br>error: ",
          "order id: <br>hold probability: 0.3128<br>hold: False<br>volume: -1.505166<br>modified volume: 1.5100<br>fee: nan<br>margin: nan<br>error: low free margin (order margin=1510.0, order profit=-29.73561887687915, free margin=291.1876421991314)",
          "order id: 9<br>hold probability: 0.4279<br>hold: False<br>volume: 0.016575<br>modified volume: 0.0200<br>fee: 0.000213<br>margin: 20.000000<br>error: ",
          "order id: <br>hold probability: 0.4120<br>hold: False<br>volume: -0.581862<br>modified volume: 0.5800<br>fee: nan<br>margin: nan<br>error: low free margin (order margin=579.9999999999999, order profit=-15.23086779516652, free margin=268.56409120127665)",
          "order id: <br>hold probability: 0.3498<br>hold: False<br>volume: -1.402369<br>modified volume: 1.4000<br>fee: nan<br>margin: nan<br>error: low free margin (order margin=1400.0, order profit=-29.294705953200083, free margin=296.70329634245974)",
          "order id: 10<br>hold probability: 0.3458<br>hold: False<br>volume: -0.201761<br>modified volume: 0.2000<br>fee: 0.000148<br>margin: 200.000000<br>error: ",
          "order id: <br>hold probability: 0.4238<br>hold: False<br>volume: -1.354816<br>modified volume: 1.3500<br>fee: nan<br>margin: nan<br>error: low free margin (order margin=1350.0, order profit=-29.920351313131274, free margin=321.6866363795808)",
          "order id: 11<br>hold probability: 0.3461<br>hold: False<br>volume: -0.058617<br>modified volume: 0.0600<br>fee: 0.000192<br>margin: 60.000000<br>error: ",
          "order id: 12<br>hold probability: 0.2403<br>hold: False<br>volume: -0.104279<br>modified volume: 0.1000<br>fee: 0.000195<br>margin: 100.000000<br>error: ",
          "order id: <br>hold probability: 0.5825<br>hold: False<br>volume: -1.034425<br>modified volume: 1.0300<br>fee: nan<br>margin: nan<br>error: low free margin (order margin=1030.0, order profit=-23.1304892462498, free margin=100.7624019011468)",
          "order id: <br>hold probability: 0.2987<br>hold: False<br>volume: -0.284345<br>modified volume: 0.2800<br>fee: nan<br>margin: nan<br>error: low free margin (order margin=280.0, order profit=-5.420697592739572, free margin=135.81104509720961)",
          "order id: <br>hold probability: 0.3559<br>hold: False<br>volume: -0.371176<br>modified volume: 0.3700<br>fee: nan<br>margin: nan<br>error: low free margin (order margin=369.99999999999994, order profit=-5.156261784579588, free margin=135.16420268219056)",
          "order id: <br>hold probability: 0.2212<br>hold: False<br>volume: -0.307266<br>modified volume: 0.3100<br>fee: nan<br>margin: nan<br>error: low free margin (order margin=310.00000000000006, order profit=-5.892557749877736, free margin=133.28915638843236)",
          "order id: <br>hold probability: 0.2492<br>hold: False<br>volume: -0.351079<br>modified volume: 0.3500<br>fee: nan<br>margin: nan<br>error: low free margin (order margin=350.0, order profit=-6.146105055698745, free margin=136.91100073320288)",
          "order id: <br>hold probability: 0.2020<br>hold: False<br>volume: -0.650381<br>modified volume: 0.6500<br>fee: nan<br>margin: nan<br>error: low free margin (order margin=650.0, order profit=-14.313568332050504, free margin=142.93562524490414)",
          "order id: <br>hold probability: 0.2138<br>hold: False<br>volume: -0.797529<br>modified volume: 0.8000<br>fee: nan<br>margin: nan<br>error: low free margin (order margin=800.0, order profit=-19.479298821011568, free margin=125.7363270930995)",
          "order id: <br>hold probability: 0.2790<br>hold: False<br>volume: -0.972631<br>modified volume: 0.9700<br>fee: nan<br>margin: nan<br>error: low free margin (order margin=970.0, order profit=-20.155822599716736, free margin=115.31024194788702)",
          "order id: <br>hold probability: 0.2026<br>hold: False<br>volume: -0.883073<br>modified volume: 0.8800<br>fee: nan<br>margin: nan<br>error: low free margin (order margin=880.0000000000001, order profit=-19.345333192601636, free margin=90.3602020144157)",
          "order id: <br>hold probability: 0.2750<br>hold: False<br>volume: -0.828745<br>modified volume: 0.8300<br>fee: nan<br>margin: nan<br>error: low free margin (order margin=829.9999999999999, order profit=-17.803905831776703, free margin=87.55852738612927)",
          "order id: <br>hold probability: 0.2675<br>hold: False<br>volume: -0.840459<br>modified volume: 0.8400<br>fee: nan<br>margin: nan<br>error: low free margin (order margin=839.9999999999999, order profit=-15.417914046819302, free margin=117.8811725308552)",
          "order id: <br>hold probability: 0.1982<br>hold: False<br>volume: -0.934670<br>modified volume: 0.9300<br>fee: nan<br>margin: nan<br>error: low free margin (order margin=929.9999999999999, order profit=-18.688969808362714, free margin=106.58575668284575)",
          "order id: <br>hold probability: 0.2818<br>hold: False<br>volume: -0.802175<br>modified volume: 0.8000<br>fee: nan<br>margin: nan<br>error: low free margin (order margin=800.0, order profit=-22.46683201876052, free margin=95.14193287318963)",
          "order id: <br>hold probability: 0.2952<br>hold: False<br>volume: -0.769100<br>modified volume: 0.7700<br>fee: nan<br>margin: nan<br>error: low free margin (order margin=769.9999999999999, order profit=-15.650396725605383, free margin=86.66764410307977)",
          "order id: <br>hold probability: 0.3370<br>hold: False<br>volume: -0.174682<br>modified volume: 0.1700<br>fee: nan<br>margin: nan<br>error: low free margin (order margin=170.0, order profit=-3.8987206557701257, free margin=153.78477482123648)",
          "order id: <br>hold probability: 0.3687<br>hold: False<br>volume: -0.356826<br>modified volume: 0.3600<br>fee: nan<br>margin: nan<br>error: low free margin (order margin=359.99999999999994, order profit=-8.343576651773994, free margin=162.64930873517292)",
          "order id: <br>hold probability: 0.2580<br>hold: False<br>volume: -0.212964<br>modified volume: 0.2100<br>fee: nan<br>margin: nan<br>error: low free margin (order margin=210.0, order profit=-5.274550850530601, free margin=154.69608360397675)",
          "order id: <br>hold probability: 0.2587<br>hold: False<br>volume: -0.204462<br>modified volume: 0.2000<br>fee: nan<br>margin: nan<br>error: low free margin (order margin=199.99999999999997, order profit=-5.5590115373013465, free margin=131.6736874869081)",
          "order id: 13<br>hold probability: 0.2181<br>hold: False<br>volume: 0.063877<br>modified volume: 0.0600<br>fee: 0.000220<br>margin: 60.000000<br>error: ",
          "order id: <br>hold probability: 0.2839<br>hold: False<br>volume: -1.304399<br>modified volume: 1.3000<br>fee: nan<br>margin: nan<br>error: low free margin (order margin=1300.0, order profit=-35.99830108117412, free margin=157.18253573986297)",
          "order id: <br>hold probability: 0.2822<br>hold: False<br>volume: -0.427759<br>modified volume: 0.4300<br>fee: nan<br>margin: nan<br>error: low free margin (order margin=430.0, order profit=-8.704356982183862, free margin=146.0078620997596)",
          "order id: <br>hold probability: 0.2616<br>hold: False<br>volume: -0.555470<br>modified volume: 0.5600<br>fee: nan<br>margin: nan<br>error: low free margin (order margin=560.0000000000001, order profit=-10.390289691957607, free margin=156.4707532112732)",
          "order id: <br>hold probability: 0.2255<br>hold: False<br>volume: -1.045532<br>modified volume: 1.0500<br>fee: nan<br>margin: nan<br>error: low free margin (order margin=1049.9999999999998, order profit=-16.02184848802083, free margin=133.52663973834152)",
          "order id: <br>hold probability: 0.2919<br>hold: False<br>volume: -0.371117<br>modified volume: 0.3700<br>fee: nan<br>margin: nan<br>error: low free margin (order margin=370.0000000000001, order profit=-9.352661538139062, free margin=158.1534233178233)",
          "order id: <br>hold probability: 0.2616<br>hold: False<br>volume: -0.303454<br>modified volume: 0.3000<br>fee: nan<br>margin: nan<br>error: low free margin (order margin=300.0, order profit=-6.9854320266394305, free margin=149.74959553609816)",
          "order id: <br>hold probability: 0.4505<br>hold: False<br>volume: -0.657938<br>modified volume: 0.6600<br>fee: nan<br>margin: nan<br>error: low free margin (order margin=660.0, order profit=-14.82509734817972, free margin=144.13876512862453)",
          "order id: <br>hold probability: 0.2985<br>hold: False<br>volume: -0.243526<br>modified volume: 0.2400<br>fee: nan<br>margin: nan<br>error: low free margin (order margin=240.0, order profit=-5.180796929042527, free margin=170.47886607331097)",
          "order id: 14<br>hold probability: 0.2407<br>hold: False<br>volume: -0.056560<br>modified volume: 0.0600<br>fee: 0.000163<br>margin: 60.000000<br>error: ",
          "order id: <br>hold probability: 0.3275<br>hold: False<br>volume: -1.994988<br>modified volume: 1.9900<br>fee: nan<br>margin: nan<br>error: low free margin (order margin=1990.0000000000002, order profit=-47.78312080307441, free margin=235.24067978508944)",
          "order id: <br>hold probability: 0.4301<br>hold: False<br>volume: -2.121669<br>modified volume: 2.1200<br>fee: nan<br>margin: nan<br>error: low free margin (order margin=2120.0, order profit=-54.143125531740566, free margin=320.75689525279876)",
          "order id: 15<br>hold probability: 0.3725<br>hold: False<br>volume: -0.040521<br>modified volume: 0.0400<br>fee: 0.000239<br>margin: 40.000000<br>error: ",
          "order id: <br>hold probability: 0.3376<br>hold: False<br>volume: -0.507618<br>modified volume: 0.5100<br>fee: nan<br>margin: nan<br>error: low free margin (order margin=510.00000000000006, order profit=-14.090089397076799, free margin=318.6403158532197)",
          "order id: 16<br>hold probability: 0.3832<br>hold: False<br>volume: -0.117364<br>modified volume: 0.1200<br>fee: 0.000185<br>margin: 120.000000<br>error: ",
          "order id: <br>hold probability: 0.4099<br>hold: False<br>volume: -1.275372<br>modified volume: 1.2800<br>fee: nan<br>margin: nan<br>error: low free margin (order margin=1280.0, order profit=-29.033480061334703, free margin=159.52387281658173)",
          "order id: <br>hold probability: 0.2437<br>hold: False<br>volume: -1.359919<br>modified volume: 1.3600<br>fee: nan<br>margin: nan<br>error: low free margin (order margin=1360.0, order profit=-26.512772940716438, free margin=155.96235867791216)",
          "order id: <br>hold probability: 0.3921<br>hold: False<br>volume: -1.536006<br>modified volume: 1.5400<br>fee: nan<br>margin: nan<br>error: low free margin (order margin=1540.0, order profit=-38.76470620320298, free margin=48.41062542132279)",
          "order id: <br>hold probability: 0.5358<br>hold: False<br>volume: -0.140319<br>modified volume: 0.1400<br>fee: nan<br>margin: nan<br>error: low free margin (order margin=140.0, order profit=-2.911767210244685, free margin=-13.172055118089915)",
          "order id: <br>hold probability: 0.4674<br>hold: False<br>volume: 0.253646<br>modified volume: 0.2500<br>fee: nan<br>margin: nan<br>error: low free margin (order margin=250.00000000000003, order profit=-4.622865357688763, free margin=-44.74390565992341)",
          "order id: <br>hold probability: 0.5149<br>hold: False<br>volume: 0.225607<br>modified volume: 0.2300<br>fee: nan<br>margin: nan<br>error: low free margin (order margin=230.00000000000003, order profit=-5.431423710568161, free margin=-40.28044958330911)",
          "order id: <br>hold probability: 0.4785<br>hold: False<br>volume: 0.529169<br>modified volume: 0.5300<br>fee: nan<br>margin: nan<br>error: low free margin (order margin=530.0, order profit=-12.62969721103158, free margin=-56.96915603616715)",
          "order id: <br>hold probability: 0.4155<br>hold: False<br>volume: -1.192664<br>modified volume: 1.1900<br>fee: nan<br>margin: nan<br>error: low free margin (order margin=1189.9999999999998, order profit=-33.53929569722148, free margin=45.30327003055048)",
          "order id: <br>hold probability: 0.3006<br>hold: False<br>volume: -1.253142<br>modified volume: 1.2500<br>fee: nan<br>margin: nan<br>error: low free margin (order margin=1250.0, order profit=-19.56954777797299, free margin=84.78392140877166)",
          "order id: <br>hold probability: 0.2544<br>hold: False<br>volume: -1.134068<br>modified volume: 1.1300<br>fee: nan<br>margin: nan<br>error: low free margin (order margin=1130.0000000000002, order profit=-26.54422251391503, free margin=54.88952093115164)",
          "order id: <br>hold probability: 0.4570<br>hold: False<br>volume: -1.512197<br>modified volume: 1.5100<br>fee: nan<br>margin: nan<br>error: low free margin (order margin=1510.0, order profit=-29.362078191166688, free margin=24.758131293239202)",
          "order id: <br>hold probability: 0.2754<br>hold: False<br>volume: -0.429441<br>modified volume: 0.4300<br>fee: nan<br>margin: nan<br>error: low free margin (order margin=430.0, order profit=-9.349619485815973, free margin=1.7138024816233468)",
          "order id: <br>hold probability: 0.3071<br>hold: False<br>volume: -1.257107<br>modified volume: 1.2600<br>fee: nan<br>margin: nan<br>error: low free margin (order margin=1260.0, order profit=-33.284601829864016, free margin=23.855265903627625)",
          "order id: <br>hold probability: 0.2209<br>hold: False<br>volume: -1.134475<br>modified volume: 1.1300<br>fee: nan<br>margin: nan<br>error: low free margin (order margin=1130.0, order profit=-28.797564369476085, free margin=83.35075710249988)",
          "order id: <br>hold probability: 0.1663<br>hold: False<br>volume: -1.406804<br>modified volume: 1.4100<br>fee: nan<br>margin: nan<br>error: low free margin (order margin=1410.0, order profit=-22.348129400452354, free margin=79.96465129605944)",
          "order id: <br>hold probability: 0.3518<br>hold: False<br>volume: -1.251401<br>modified volume: 1.2500<br>fee: nan<br>margin: nan<br>error: low free margin (order margin=1249.9999999999998, order profit=-30.366870443835964, free margin=65.40038015551123)",
          "order id: <br>hold probability: 0.3851<br>hold: False<br>volume: -1.502826<br>modified volume: 1.5000<br>fee: nan<br>margin: nan<br>error: low free margin (order margin=1500.0, order profit=-29.3802740085205, free margin=14.061593629843358)",
          "order id: <br>hold probability: 0.2747<br>hold: False<br>volume: -1.174522<br>modified volume: 1.1700<br>fee: nan<br>margin: nan<br>error: low free margin (order margin=1170.0, order profit=-23.84852269920953, free margin=99.65709380362635)",
          "order id: <br>hold probability: 0.2933<br>hold: False<br>volume: -1.376952<br>modified volume: 1.3800<br>fee: nan<br>margin: nan<br>error: low free margin (order margin=1380.0, order profit=-32.64701132644113, free margin=24.629142082420188)",
          "order id: <br>hold probability: 0.3063<br>hold: False<br>volume: -1.347481<br>modified volume: 1.3500<br>fee: nan<br>margin: nan<br>error: low free margin (order margin=1350.0, order profit=-29.756348486901164, free margin=48.15161687913029)",
          "order id: <br>hold probability: 0.4169<br>hold: False<br>volume: -1.162289<br>modified volume: 1.1600<br>fee: nan<br>margin: nan<br>error: low free margin (order margin=1159.9999999999998, order profit=-23.608540981278193, free margin=46.07995608587355)",
          "order id: <br>hold probability: 0.2667<br>hold: False<br>volume: -1.316693<br>modified volume: 1.3200<br>fee: nan<br>margin: nan<br>error: low free margin (order margin=1319.9999999999998, order profit=-29.847296431275772, free margin=58.78026001331652)"
         ],
         "legendgroup": "g1",
         "marker": {
          "color": [
           "red",
           "gray",
           "red",
           "gray",
           "green",
           "gray",
           "gray",
           "green",
           "gray",
           "red",
           "gray",
           "red",
           "red",
           "gray",
           "green",
           "gray",
           "green",
           "gray",
           "gray",
           "red",
           "gray",
           "red",
           "red",
           "gray",
           "gray",
           "gray",
           "gray",
           "gray",
           "gray",
           "gray",
           "gray",
           "gray",
           "gray",
           "gray",
           "gray",
           "gray",
           "gray",
           "gray",
           "gray",
           "gray",
           "gray",
           "green",
           "gray",
           "gray",
           "gray",
           "gray",
           "gray",
           "gray",
           "gray",
           "gray",
           "red",
           "gray",
           "gray",
           "red",
           "gray",
           "red",
           "gray",
           "gray",
           "gray",
           "gray",
           "gray",
           "gray",
           "gray",
           "gray",
           "gray",
           "gray",
           "gray",
           "gray",
           "gray",
           "gray",
           "gray",
           "gray",
           "gray",
           "gray",
           "gray",
           "gray",
           "gray",
           "gray"
          ],
          "size": [
           8.31132075471698,
           12.981132075471699,
           9.349056603773585,
           22.216981132075475,
           8.31132075471698,
           13.60377358490566,
           20.245283018867923,
           8.622641509433961,
           26.471698113207545,
           8.31132075471698,
           18.27358490566038,
           8.726415094339622,
           8.415094339622641,
           24.18867924528302,
           9.141509433962264,
           23.669811320754718,
           8.20754716981132,
           14.018867924528301,
           22.528301886792455,
           10.075471698113208,
           22.00943396226415,
           8.622641509433961,
           9.037735849056604,
           18.68867924528302,
           10.90566037735849,
           11.839622641509434,
           11.216981132075471,
           11.632075471698114,
           14.745283018867925,
           16.30188679245283,
           18.066037735849058,
           17.132075471698112,
           16.613207547169814,
           16.71698113207547,
           17.650943396226417,
           16.30188679245283,
           15.99056603773585,
           9.764150943396226,
           11.735849056603772,
           10.179245283018869,
           10.075471698113208,
           8.622641509433961,
           21.49056603773585,
           12.462264150943396,
           13.81132075471698,
           18.89622641509434,
           11.839622641509434,
           11.11320754716981,
           14.849056603773585,
           10.49056603773585,
           8.622641509433961,
           28.650943396226413,
           30,
           8.415094339622641,
           13.29245283018868,
           9.245283018867925,
           21.283018867924525,
           22.11320754716981,
           23.9811320754717,
           9.452830188679245,
           10.59433962264151,
           10.38679245283019,
           13.5,
           20.349056603773583,
           20.971698113207545,
           19.72641509433962,
           23.669811320754718,
           12.462264150943396,
           21.075471698113205,
           19.72641509433962,
           22.632075471698112,
           20.971698113207545,
           23.566037735849058,
           20.141509433962263,
           22.32075471698113,
           22.00943396226415,
           20.037735849056602,
           21.69811320754717
          ],
          "symbol": [
           "triangle-down",
           "triangle-down",
           "triangle-down",
           "triangle-down",
           "triangle-up",
           "triangle-down",
           "triangle-down",
           "triangle-up",
           "triangle-down",
           "triangle-down",
           "triangle-down",
           "triangle-down",
           "triangle-down",
           "triangle-down",
           "triangle-up",
           "triangle-down",
           "triangle-up",
           "triangle-down",
           "triangle-down",
           "triangle-down",
           "triangle-down",
           "triangle-down",
           "triangle-down",
           "triangle-down",
           "triangle-down",
           "triangle-down",
           "triangle-down",
           "triangle-down",
           "triangle-down",
           "triangle-down",
           "triangle-down",
           "triangle-down",
           "triangle-down",
           "triangle-down",
           "triangle-down",
           "triangle-down",
           "triangle-down",
           "triangle-down",
           "triangle-down",
           "triangle-down",
           "triangle-down",
           "triangle-up",
           "triangle-down",
           "triangle-down",
           "triangle-down",
           "triangle-down",
           "triangle-down",
           "triangle-down",
           "triangle-down",
           "triangle-down",
           "triangle-down",
           "triangle-down",
           "triangle-down",
           "triangle-down",
           "triangle-down",
           "triangle-down",
           "triangle-down",
           "triangle-down",
           "triangle-down",
           "triangle-down",
           "triangle-down",
           "triangle-down",
           "triangle-down",
           "triangle-down",
           "triangle-down",
           "triangle-down",
           "triangle-down",
           "triangle-down",
           "triangle-down",
           "triangle-down",
           "triangle-down",
           "triangle-down",
           "triangle-down",
           "triangle-down",
           "triangle-down",
           "triangle-down",
           "triangle-down",
           "triangle-down"
          ]
         },
         "mode": "markers",
         "name": "USDCHF",
         "showlegend": false,
         "type": "scatter",
         "x": [
          "2021-05-18T00:00:00+00:00",
          "2021-05-19T00:00:00+00:00",
          "2021-05-20T00:00:00+00:00",
          "2021-05-21T00:00:00+00:00",
          "2021-05-24T00:00:00+00:00",
          "2021-05-25T00:00:00+00:00",
          "2021-05-26T00:00:00+00:00",
          "2021-05-27T00:00:00+00:00",
          "2021-05-28T00:00:00+00:00",
          "2021-05-31T00:00:00+00:00",
          "2021-06-01T00:00:00+00:00",
          "2021-06-02T00:00:00+00:00",
          "2021-06-03T00:00:00+00:00",
          "2021-06-04T00:00:00+00:00",
          "2021-06-07T00:00:00+00:00",
          "2021-06-08T00:00:00+00:00",
          "2021-06-09T00:00:00+00:00",
          "2021-06-10T00:00:00+00:00",
          "2021-06-11T00:00:00+00:00",
          "2021-06-14T00:00:00+00:00",
          "2021-06-15T00:00:00+00:00",
          "2021-06-16T00:00:00+00:00",
          "2021-06-17T00:00:00+00:00",
          "2021-06-18T00:00:00+00:00",
          "2021-06-21T00:00:00+00:00",
          "2021-06-22T00:00:00+00:00",
          "2021-06-23T00:00:00+00:00",
          "2021-06-24T00:00:00+00:00",
          "2021-06-25T00:00:00+00:00",
          "2021-06-28T00:00:00+00:00",
          "2021-06-29T00:00:00+00:00",
          "2021-06-30T00:00:00+00:00",
          "2021-07-01T00:00:00+00:00",
          "2021-07-02T00:00:00+00:00",
          "2021-07-05T00:00:00+00:00",
          "2021-07-06T00:00:00+00:00",
          "2021-07-07T00:00:00+00:00",
          "2021-07-08T00:00:00+00:00",
          "2021-07-09T00:00:00+00:00",
          "2021-07-12T00:00:00+00:00",
          "2021-07-13T00:00:00+00:00",
          "2021-07-14T00:00:00+00:00",
          "2021-07-15T00:00:00+00:00",
          "2021-07-16T00:00:00+00:00",
          "2021-07-19T00:00:00+00:00",
          "2021-07-20T00:00:00+00:00",
          "2021-07-21T00:00:00+00:00",
          "2021-07-22T00:00:00+00:00",
          "2021-07-23T00:00:00+00:00",
          "2021-07-26T00:00:00+00:00",
          "2021-07-27T00:00:00+00:00",
          "2021-07-28T00:00:00+00:00",
          "2021-07-29T00:00:00+00:00",
          "2021-07-30T00:00:00+00:00",
          "2021-08-02T00:00:00+00:00",
          "2021-08-03T00:00:00+00:00",
          "2021-08-04T00:00:00+00:00",
          "2021-08-05T00:00:00+00:00",
          "2021-08-06T00:00:00+00:00",
          "2021-08-09T00:00:00+00:00",
          "2021-08-10T00:00:00+00:00",
          "2021-08-11T00:00:00+00:00",
          "2021-08-12T00:00:00+00:00",
          "2021-08-13T00:00:00+00:00",
          "2021-08-16T00:00:00+00:00",
          "2021-08-17T00:00:00+00:00",
          "2021-08-18T00:00:00+00:00",
          "2021-08-19T00:00:00+00:00",
          "2021-08-20T00:00:00+00:00",
          "2021-08-23T00:00:00+00:00",
          "2021-08-24T00:00:00+00:00",
          "2021-08-25T00:00:00+00:00",
          "2021-08-26T00:00:00+00:00",
          "2021-08-27T00:00:00+00:00",
          "2021-08-30T00:00:00+00:00",
          "2021-08-31T00:00:00+00:00",
          "2021-09-01T00:00:00+00:00",
          "2021-09-02T00:00:00+00:00"
         ],
         "y": {
          "bdata": "YYkHlE257D9eLuI7MevsP9klqrcGtuw/0jWTb7a57D/fFcH/VrLsPxmto6oJouw/e6AVGLK67D9xyXGndLDsP1nABG7dzew/p658lufB7D/bheY6jbTsP2GJB5RNuew/uVM6WP/n7D+hvmVOl8XsP/Dce7jkuOw/xM4UOq+x7D9lwi/186bsPx5tHLEWn+w/W5nwS/287D9iEFg5tMjsP5EnSddMvuw/ieqtga0S7T/ogvqWOV3tP3k7wmnBi+0/V89J7xtf7T85KGGm7V/tP/yp8dJNYu0/Pbg7a7dd7T+g/UgRGVbtP+s56X3ja+0/09nJ4Ch57T9FZFjFG5ntP1vri4S2nO0/S3ZsBOJ17T+jkjoBTYTtP6VJKej2ku0/y2d5Htyd7T9GsdzSakjtP3f4a7JGPe0/1zTvOEVH7T8xCKwcWmTtP1Exzt+EQu0/Pbg7a7dd7T/rOel942vtPwKaCBueXu0/QPZ698d77T/qspjYfFztP2U2yCQjZ+0/rrt5qkNu7T8iGt1B7EztP6jGSzeJQe0/58b0hCUe7T8DYDyDhv7sP0penWNA9uw/nDOitDf47D9Bt5c0RuvsP1LVBFH3Ae0/TkUqjC0E7T9kWMUbmUftPwLxun7Bbu0/bATidf2C7T9VTRB1H4DtP7RZ9bnaiu0/ti3KbJBJ7T+pnzcVqTDtP/qbUIiAQ+0/9DKK5ZZW7T/36XjMQGXtPyzxgLIpV+0/b4EExY8x7T+IaHQHsTPtPwZM4NbdPO0/r5RliGNd7T9lqmBUUiftP9i7P96rVu0/K2owDcNH7T9i+IiYEkntP1ORCmMLQe0/",
          "dtype": "f8"
         },
         "yaxis": "y"
        },
        {
         "hovertext": [
          "order id: 1<br>order type: Sell<br>close probability: 0.5395<br>margin: 30.000000<br>profit: -20.854469",
          "order id: 2<br>order type: Sell<br>close probability: 0.6363<br>margin: 130.000000<br>profit: -9.041071",
          "order id: 3<br>order type: Buy<br>close probability: 0.5900<br>margin: 30.000000<br>profit: 2.721958",
          "order id: 4<br>order type: Buy<br>close probability: 0.6565<br>margin: 60.000000<br>profit: 22.677416",
          "order id: 5<br>order type: Sell<br>close probability: 0.5754<br>margin: 30.000000<br>profit: 4.769550",
          "order id: 6<br>order type: Sell<br>close probability: 0.5332<br>margin: 70.000000<br>profit: -13.118072<br>---------------------------------<br>order id: 7<br>order type: Sell<br>close probability: 0.6889<br>margin: 40.000000<br>profit: 17.559703",
          "order id: 8<br>order type: Buy<br>close probability: 0.5387<br>margin: 110.000000<br>profit: -13.527372",
          "order id: 9<br>order type: Buy<br>close probability: 0.6088<br>margin: 20.000000<br>profit: 5.515654",
          "order id: 10<br>order type: Sell<br>close probability: 0.7304<br>margin: 200.000000<br>profit: 24.983340",
          "order id: 12<br>order type: Sell<br>close probability: 0.6748<br>margin: 100.000000<br>profit: -63.630224",
          "order id: 13<br>order type: Buy<br>close probability: 0.7454<br>margin: 60.000000<br>profit: 20.271535",
          "order id: 14<br>order type: Sell<br>close probability: 0.7403<br>margin: 60.000000<br>profit: 27.410829",
          "order id: 11<br>order type: Sell<br>close probability: 0.6389<br>margin: 60.000000<br>profit: 15.018119",
          "order id: 15<br>order type: Sell<br>close probability: 0.5589<br>margin: 40.000000<br>profit: -2.116579"
         ],
         "legendgroup": "g1",
         "marker": {
          "color": "black",
          "line": {
           "width": 1.5
          },
          "size": 7,
          "symbol": "line-ns"
         },
         "mode": "markers",
         "name": "USDCHF",
         "showlegend": false,
         "type": "scatter",
         "x": [
          "2021-05-19T00:00:00+00:00",
          "2021-05-21T00:00:00+00:00",
          "2021-05-26T00:00:00+00:00",
          "2021-05-28T00:00:00+00:00",
          "2021-06-01T00:00:00+00:00",
          "2021-06-04T00:00:00+00:00",
          "2021-06-08T00:00:00+00:00",
          "2021-06-11T00:00:00+00:00",
          "2021-06-15T00:00:00+00:00",
          "2021-06-18T00:00:00+00:00",
          "2021-07-15T00:00:00+00:00",
          "2021-07-28T00:00:00+00:00",
          "2021-07-29T00:00:00+00:00",
          "2021-08-02T00:00:00+00:00"
         ],
         "y": {
          "bdata": "Xi7iOzHr7D/SNZNvtrnsP3ugFRiyuuw/WcAEbt3N7D/bheY6jbTsP6G+ZU6Xxew/xM4UOq+x7D9bmfBL/bzsP5EnSddMvuw/eTvCacGL7T89uDtrt13tP+fG9IQlHu0/A2A8g4b+7D+cM6K0N/jsPw==",
          "dtype": "f8"
         },
         "yaxis": "y"
        }
       ],
       "layout": {
        "height": 600,
        "template": {
         "data": {
          "bar": [
           {
            "error_x": {
             "color": "#2a3f5f"
            },
            "error_y": {
             "color": "#2a3f5f"
            },
            "marker": {
             "line": {
              "color": "#E5ECF6",
              "width": 0.5
             },
             "pattern": {
              "fillmode": "overlay",
              "size": 10,
              "solidity": 0.2
             }
            },
            "type": "bar"
           }
          ],
          "barpolar": [
           {
            "marker": {
             "line": {
              "color": "#E5ECF6",
              "width": 0.5
             },
             "pattern": {
              "fillmode": "overlay",
              "size": 10,
              "solidity": 0.2
             }
            },
            "type": "barpolar"
           }
          ],
          "carpet": [
           {
            "aaxis": {
             "endlinecolor": "#2a3f5f",
             "gridcolor": "white",
             "linecolor": "white",
             "minorgridcolor": "white",
             "startlinecolor": "#2a3f5f"
            },
            "baxis": {
             "endlinecolor": "#2a3f5f",
             "gridcolor": "white",
             "linecolor": "white",
             "minorgridcolor": "white",
             "startlinecolor": "#2a3f5f"
            },
            "type": "carpet"
           }
          ],
          "choropleth": [
           {
            "colorbar": {
             "outlinewidth": 0,
             "ticks": ""
            },
            "type": "choropleth"
           }
          ],
          "contour": [
           {
            "colorbar": {
             "outlinewidth": 0,
             "ticks": ""
            },
            "colorscale": [
             [
              0,
              "#0d0887"
             ],
             [
              0.1111111111111111,
              "#46039f"
             ],
             [
              0.2222222222222222,
              "#7201a8"
             ],
             [
              0.3333333333333333,
              "#9c179e"
             ],
             [
              0.4444444444444444,
              "#bd3786"
             ],
             [
              0.5555555555555556,
              "#d8576b"
             ],
             [
              0.6666666666666666,
              "#ed7953"
             ],
             [
              0.7777777777777778,
              "#fb9f3a"
             ],
             [
              0.8888888888888888,
              "#fdca26"
             ],
             [
              1,
              "#f0f921"
             ]
            ],
            "type": "contour"
           }
          ],
          "contourcarpet": [
           {
            "colorbar": {
             "outlinewidth": 0,
             "ticks": ""
            },
            "type": "contourcarpet"
           }
          ],
          "heatmap": [
           {
            "colorbar": {
             "outlinewidth": 0,
             "ticks": ""
            },
            "colorscale": [
             [
              0,
              "#0d0887"
             ],
             [
              0.1111111111111111,
              "#46039f"
             ],
             [
              0.2222222222222222,
              "#7201a8"
             ],
             [
              0.3333333333333333,
              "#9c179e"
             ],
             [
              0.4444444444444444,
              "#bd3786"
             ],
             [
              0.5555555555555556,
              "#d8576b"
             ],
             [
              0.6666666666666666,
              "#ed7953"
             ],
             [
              0.7777777777777778,
              "#fb9f3a"
             ],
             [
              0.8888888888888888,
              "#fdca26"
             ],
             [
              1,
              "#f0f921"
             ]
            ],
            "type": "heatmap"
           }
          ],
          "histogram": [
           {
            "marker": {
             "pattern": {
              "fillmode": "overlay",
              "size": 10,
              "solidity": 0.2
             }
            },
            "type": "histogram"
           }
          ],
          "histogram2d": [
           {
            "colorbar": {
             "outlinewidth": 0,
             "ticks": ""
            },
            "colorscale": [
             [
              0,
              "#0d0887"
             ],
             [
              0.1111111111111111,
              "#46039f"
             ],
             [
              0.2222222222222222,
              "#7201a8"
             ],
             [
              0.3333333333333333,
              "#9c179e"
             ],
             [
              0.4444444444444444,
              "#bd3786"
             ],
             [
              0.5555555555555556,
              "#d8576b"
             ],
             [
              0.6666666666666666,
              "#ed7953"
             ],
             [
              0.7777777777777778,
              "#fb9f3a"
             ],
             [
              0.8888888888888888,
              "#fdca26"
             ],
             [
              1,
              "#f0f921"
             ]
            ],
            "type": "histogram2d"
           }
          ],
          "histogram2dcontour": [
           {
            "colorbar": {
             "outlinewidth": 0,
             "ticks": ""
            },
            "colorscale": [
             [
              0,
              "#0d0887"
             ],
             [
              0.1111111111111111,
              "#46039f"
             ],
             [
              0.2222222222222222,
              "#7201a8"
             ],
             [
              0.3333333333333333,
              "#9c179e"
             ],
             [
              0.4444444444444444,
              "#bd3786"
             ],
             [
              0.5555555555555556,
              "#d8576b"
             ],
             [
              0.6666666666666666,
              "#ed7953"
             ],
             [
              0.7777777777777778,
              "#fb9f3a"
             ],
             [
              0.8888888888888888,
              "#fdca26"
             ],
             [
              1,
              "#f0f921"
             ]
            ],
            "type": "histogram2dcontour"
           }
          ],
          "mesh3d": [
           {
            "colorbar": {
             "outlinewidth": 0,
             "ticks": ""
            },
            "type": "mesh3d"
           }
          ],
          "parcoords": [
           {
            "line": {
             "colorbar": {
              "outlinewidth": 0,
              "ticks": ""
             }
            },
            "type": "parcoords"
           }
          ],
          "pie": [
           {
            "automargin": true,
            "type": "pie"
           }
          ],
          "scatter": [
           {
            "fillpattern": {
             "fillmode": "overlay",
             "size": 10,
             "solidity": 0.2
            },
            "type": "scatter"
           }
          ],
          "scatter3d": [
           {
            "line": {
             "colorbar": {
              "outlinewidth": 0,
              "ticks": ""
             }
            },
            "marker": {
             "colorbar": {
              "outlinewidth": 0,
              "ticks": ""
             }
            },
            "type": "scatter3d"
           }
          ],
          "scattercarpet": [
           {
            "marker": {
             "colorbar": {
              "outlinewidth": 0,
              "ticks": ""
             }
            },
            "type": "scattercarpet"
           }
          ],
          "scattergeo": [
           {
            "marker": {
             "colorbar": {
              "outlinewidth": 0,
              "ticks": ""
             }
            },
            "type": "scattergeo"
           }
          ],
          "scattergl": [
           {
            "marker": {
             "colorbar": {
              "outlinewidth": 0,
              "ticks": ""
             }
            },
            "type": "scattergl"
           }
          ],
          "scattermap": [
           {
            "marker": {
             "colorbar": {
              "outlinewidth": 0,
              "ticks": ""
             }
            },
            "type": "scattermap"
           }
          ],
          "scattermapbox": [
           {
            "marker": {
             "colorbar": {
              "outlinewidth": 0,
              "ticks": ""
             }
            },
            "type": "scattermapbox"
           }
          ],
          "scatterpolar": [
           {
            "marker": {
             "colorbar": {
              "outlinewidth": 0,
              "ticks": ""
             }
            },
            "type": "scatterpolar"
           }
          ],
          "scatterpolargl": [
           {
            "marker": {
             "colorbar": {
              "outlinewidth": 0,
              "ticks": ""
             }
            },
            "type": "scatterpolargl"
           }
          ],
          "scatterternary": [
           {
            "marker": {
             "colorbar": {
              "outlinewidth": 0,
              "ticks": ""
             }
            },
            "type": "scatterternary"
           }
          ],
          "surface": [
           {
            "colorbar": {
             "outlinewidth": 0,
             "ticks": ""
            },
            "colorscale": [
             [
              0,
              "#0d0887"
             ],
             [
              0.1111111111111111,
              "#46039f"
             ],
             [
              0.2222222222222222,
              "#7201a8"
             ],
             [
              0.3333333333333333,
              "#9c179e"
             ],
             [
              0.4444444444444444,
              "#bd3786"
             ],
             [
              0.5555555555555556,
              "#d8576b"
             ],
             [
              0.6666666666666666,
              "#ed7953"
             ],
             [
              0.7777777777777778,
              "#fb9f3a"
             ],
             [
              0.8888888888888888,
              "#fdca26"
             ],
             [
              1,
              "#f0f921"
             ]
            ],
            "type": "surface"
           }
          ],
          "table": [
           {
            "cells": {
             "fill": {
              "color": "#EBF0F8"
             },
             "line": {
              "color": "white"
             }
            },
            "header": {
             "fill": {
              "color": "#C8D4E3"
             },
             "line": {
              "color": "white"
             }
            },
            "type": "table"
           }
          ]
         },
         "layout": {
          "annotationdefaults": {
           "arrowcolor": "#2a3f5f",
           "arrowhead": 0,
           "arrowwidth": 1
          },
          "autotypenumbers": "strict",
          "coloraxis": {
           "colorbar": {
            "outlinewidth": 0,
            "ticks": ""
           }
          },
          "colorscale": {
           "diverging": [
            [
             0,
             "#8e0152"
            ],
            [
             0.1,
             "#c51b7d"
            ],
            [
             0.2,
             "#de77ae"
            ],
            [
             0.3,
             "#f1b6da"
            ],
            [
             0.4,
             "#fde0ef"
            ],
            [
             0.5,
             "#f7f7f7"
            ],
            [
             0.6,
             "#e6f5d0"
            ],
            [
             0.7,
             "#b8e186"
            ],
            [
             0.8,
             "#7fbc41"
            ],
            [
             0.9,
             "#4d9221"
            ],
            [
             1,
             "#276419"
            ]
           ],
           "sequential": [
            [
             0,
             "#0d0887"
            ],
            [
             0.1111111111111111,
             "#46039f"
            ],
            [
             0.2222222222222222,
             "#7201a8"
            ],
            [
             0.3333333333333333,
             "#9c179e"
            ],
            [
             0.4444444444444444,
             "#bd3786"
            ],
            [
             0.5555555555555556,
             "#d8576b"
            ],
            [
             0.6666666666666666,
             "#ed7953"
            ],
            [
             0.7777777777777778,
             "#fb9f3a"
            ],
            [
             0.8888888888888888,
             "#fdca26"
            ],
            [
             1,
             "#f0f921"
            ]
           ],
           "sequentialminus": [
            [
             0,
             "#0d0887"
            ],
            [
             0.1111111111111111,
             "#46039f"
            ],
            [
             0.2222222222222222,
             "#7201a8"
            ],
            [
             0.3333333333333333,
             "#9c179e"
            ],
            [
             0.4444444444444444,
             "#bd3786"
            ],
            [
             0.5555555555555556,
             "#d8576b"
            ],
            [
             0.6666666666666666,
             "#ed7953"
            ],
            [
             0.7777777777777778,
             "#fb9f3a"
            ],
            [
             0.8888888888888888,
             "#fdca26"
            ],
            [
             1,
             "#f0f921"
            ]
           ]
          },
          "colorway": [
           "#636efa",
           "#EF553B",
           "#00cc96",
           "#ab63fa",
           "#FFA15A",
           "#19d3f3",
           "#FF6692",
           "#B6E880",
           "#FF97FF",
           "#FECB52"
          ],
          "font": {
           "color": "#2a3f5f"
          },
          "geo": {
           "bgcolor": "white",
           "lakecolor": "white",
           "landcolor": "#E5ECF6",
           "showlakes": true,
           "showland": true,
           "subunitcolor": "white"
          },
          "hoverlabel": {
           "align": "left"
          },
          "hovermode": "closest",
          "mapbox": {
           "style": "light"
          },
          "paper_bgcolor": "white",
          "plot_bgcolor": "#E5ECF6",
          "polar": {
           "angularaxis": {
            "gridcolor": "white",
            "linecolor": "white",
            "ticks": ""
           },
           "bgcolor": "#E5ECF6",
           "radialaxis": {
            "gridcolor": "white",
            "linecolor": "white",
            "ticks": ""
           }
          },
          "scene": {
           "xaxis": {
            "backgroundcolor": "#E5ECF6",
            "gridcolor": "white",
            "gridwidth": 2,
            "linecolor": "white",
            "showbackground": true,
            "ticks": "",
            "zerolinecolor": "white"
           },
           "yaxis": {
            "backgroundcolor": "#E5ECF6",
            "gridcolor": "white",
            "gridwidth": 2,
            "linecolor": "white",
            "showbackground": true,
            "ticks": "",
            "zerolinecolor": "white"
           },
           "zaxis": {
            "backgroundcolor": "#E5ECF6",
            "gridcolor": "white",
            "gridwidth": 2,
            "linecolor": "white",
            "showbackground": true,
            "ticks": "",
            "zerolinecolor": "white"
           }
          },
          "shapedefaults": {
           "line": {
            "color": "#2a3f5f"
           }
          },
          "ternary": {
           "aaxis": {
            "gridcolor": "white",
            "linecolor": "white",
            "ticks": ""
           },
           "baxis": {
            "gridcolor": "white",
            "linecolor": "white",
            "ticks": ""
           },
           "bgcolor": "#E5ECF6",
           "caxis": {
            "gridcolor": "white",
            "linecolor": "white",
            "ticks": ""
           }
          },
          "title": {
           "x": 0.05
          },
          "xaxis": {
           "automargin": true,
           "gridcolor": "white",
           "linecolor": "white",
           "ticks": "",
           "title": {
            "standoff": 15
           },
           "zerolinecolor": "white",
           "zerolinewidth": 2
          },
          "yaxis": {
           "automargin": true,
           "gridcolor": "white",
           "linecolor": "white",
           "ticks": "",
           "title": {
            "standoff": 15
           },
           "zerolinecolor": "white",
           "zerolinewidth": 2
          }
         }
        },
        "title": {
         "text": "Balance: 318.640316 USD ~ Equity: 182.154300 ~ Margin: 120.000000 ~ Free Margin: 62.154300 ~ Margin Level: 1.517953"
        },
        "width": 1400,
        "xaxis": {
         "tickformat": "%Y-%m-%d"
        },
        "yaxis": {
         "tickfont": {
          "color": "rgba(0.12156862745098039, 0.4666666666666667, 0.7058823529411765, 0.8)"
         }
        }
       }
      }
     },
     "metadata": {},
     "output_type": "display_data"
    }
   ],
   "source": [
    "testing_env.render('simple_figure')\n",
    "testing_env.render('advanced_figure', time_format=\"%Y-%m-%d\")"
   ]
  }
 ],
 "metadata": {
  "kernelspec": {
   "display_name": "Python 3",
   "language": "python",
   "name": "python3"
  },
  "language_info": {
   "codemirror_mode": {
    "name": "ipython",
    "version": 3
   },
   "file_extension": ".py",
   "mimetype": "text/x-python",
   "name": "python",
   "nbconvert_exporter": "python",
   "pygments_lexer": "ipython3",
   "version": "3.10.11"
  }
 },
 "nbformat": 4,
 "nbformat_minor": 5
}
